{
  "nbformat": 4,
  "nbformat_minor": 0,
  "metadata": {
    "colab": {
      "name": "DIEGO_RODRIGUEZ_1_2",
      "provenance": [],
      "collapsed_sections": [],
      "include_colab_link": true
    },
    "kernelspec": {
      "name": "python3",
      "display_name": "Python 3"
    }
  },
  "cells": [
    {
      "cell_type": "markdown",
      "metadata": {
        "id": "view-in-github",
        "colab_type": "text"
      },
      "source": [
        "<a href=\"https://colab.research.google.com/github/Diego-rp/Google-Colab/blob/master/05%20-%20Numpy.ipynb\" target=\"_parent\"><img src=\"https://colab.research.google.com/assets/colab-badge.svg\" alt=\"Open In Colab\"/></a>"
      ]
    },
    {
      "cell_type": "markdown",
      "metadata": {
        "id": "ZvNsvUNNlZbi",
        "colab_type": "text"
      },
      "source": [
        "---\n",
        "# Lambda School Data Science - Intro to Python  \n",
        "---\n",
        "# 05 - Numpy\n",
        "---\n",
        "\n"
      ]
    },
    {
      "cell_type": "markdown",
      "metadata": {
        "id": "y8HUQb0OOztX",
        "colab_type": "text"
      },
      "source": [
        "##STOP! BEFORE GOING ANY FURTHER...  \n",
        "\n",
        "\n",
        "1. Click \"File\" at the top.\n",
        "2. Then, \"Save a Copy in Drive.\"\n",
        "3. Change the file name to \"FIRSTNAME_LASTNAME_1_2\"  \n",
        "\n",
        "Now you have a copy of this notebook in your Drive account. This is the copy you'll edit and submit. Be sure to do this for ***every*** assignment!\n",
        "\n"
      ]
    },
    {
      "cell_type": "markdown",
      "metadata": {
        "id": "xMq6Of2Gt24o",
        "colab_type": "text"
      },
      "source": [
        "### Import Numpy as Np"
      ]
    },
    {
      "cell_type": "code",
      "metadata": {
        "id": "h3r0IvHVuGJb",
        "colab_type": "code",
        "colab": {}
      },
      "source": [
        "import numpy as np"
      ],
      "execution_count": 0,
      "outputs": []
    },
    {
      "cell_type": "markdown",
      "metadata": {
        "id": "DvYie7qokbDH",
        "colab_type": "text"
      },
      "source": [
        "### Generate random numbers\n",
        "Create a (5,3) Numpy array of random integer values between 0 and 100."
      ]
    },
    {
      "cell_type": "code",
      "metadata": {
        "id": "UNJo_50VktRs",
        "colab_type": "code",
        "colab": {
          "base_uri": "https://localhost:8080/",
          "height": 98
        },
        "outputId": "93cb124d-df91-4636-ede9-276c64b95c09"
      },
      "source": [
        "arr = np.random.randint(100, size=(5,3))\n",
        "print(arr)\n"
      ],
      "execution_count": 6,
      "outputs": [
        {
          "output_type": "stream",
          "text": [
            "[[47 79 38]\n",
            " [50 88 32]\n",
            " [94 41 83]\n",
            " [76 50 70]\n",
            " [ 9 89 54]]\n"
          ],
          "name": "stdout"
        }
      ]
    },
    {
      "cell_type": "markdown",
      "metadata": {
        "id": "CYy4Zp5pk7tS",
        "colab_type": "text"
      },
      "source": [
        "### Array practice\n",
        "Run each of these in their own code cell and comment it accordingly:\n",
        "\n",
        "*  Return the first row\n",
        "*  Return the last column\n",
        "*  Return the third column values from the 4th and 5th rows\n",
        "*  Multiply every value in the array by 2\n",
        "*  Divide every value by 3\n",
        "*  Increase the values in the first row by 12\n",
        "* Calculate the mean of the first column\n",
        "* Calculate the median of the array _after_ removing the 2 smallest values in the array\n",
        "* Calculate the standard deviation of the first 3 rows\n",
        "* Return values in the second column greater than 25\n",
        "* Return values in the array under 40"
      ]
    },
    {
      "cell_type": "code",
      "metadata": {
        "id": "lIxLoTfGl910",
        "colab_type": "code",
        "colab": {}
      },
      "source": [
        "# Return the first row:"
      ],
      "execution_count": 0,
      "outputs": []
    },
    {
      "cell_type": "code",
      "metadata": {
        "id": "lMafok6zoGB-",
        "colab_type": "code",
        "colab": {
          "base_uri": "https://localhost:8080/",
          "height": 33
        },
        "outputId": "805c36b1-1f23-4a59-fc56-866bbd6ddf2b"
      },
      "source": [
        "arr[0]"
      ],
      "execution_count": 7,
      "outputs": [
        {
          "output_type": "execute_result",
          "data": {
            "text/plain": [
              "array([47, 79, 38])"
            ]
          },
          "metadata": {
            "tags": []
          },
          "execution_count": 7
        }
      ]
    },
    {
      "cell_type": "code",
      "metadata": {
        "id": "OVVMZRliyDkb",
        "colab_type": "code",
        "colab": {}
      },
      "source": [
        "# Return the last column:"
      ],
      "execution_count": 0,
      "outputs": []
    },
    {
      "cell_type": "code",
      "metadata": {
        "id": "-dnbWLGWylEC",
        "colab_type": "code",
        "colab": {
          "base_uri": "https://localhost:8080/",
          "height": 33
        },
        "outputId": "d722854d-80c1-42d1-e890-aa4c44143ca0"
      },
      "source": [
        "arr[:,-1]"
      ],
      "execution_count": 9,
      "outputs": [
        {
          "output_type": "execute_result",
          "data": {
            "text/plain": [
              "array([38, 32, 83, 70, 54])"
            ]
          },
          "metadata": {
            "tags": []
          },
          "execution_count": 9
        }
      ]
    },
    {
      "cell_type": "code",
      "metadata": {
        "id": "I_Dx4D87yDzB",
        "colab_type": "code",
        "colab": {
          "base_uri": "https://localhost:8080/",
          "height": 33
        },
        "outputId": "bb22cc9e-485a-40a1-d727-050cd7a07725"
      },
      "source": [
        "# Return the third column values from the 4th and 5th rows:\n",
        "arr[3:5,2]"
      ],
      "execution_count": 10,
      "outputs": [
        {
          "output_type": "execute_result",
          "data": {
            "text/plain": [
              "array([70, 54])"
            ]
          },
          "metadata": {
            "tags": []
          },
          "execution_count": 10
        }
      ]
    },
    {
      "cell_type": "code",
      "metadata": {
        "id": "r-jbbxtJyD1z",
        "colab_type": "code",
        "colab": {}
      },
      "source": [
        "# Multiply every value in the array by 2:"
      ],
      "execution_count": 0,
      "outputs": []
    },
    {
      "cell_type": "code",
      "metadata": {
        "id": "CdDjvWl1zHlZ",
        "colab_type": "code",
        "colab": {
          "base_uri": "https://localhost:8080/",
          "height": 98
        },
        "outputId": "76f341ba-9645-47ac-f6a6-a38e1b805094"
      },
      "source": [
        "arr *2 "
      ],
      "execution_count": 11,
      "outputs": [
        {
          "output_type": "execute_result",
          "data": {
            "text/plain": [
              "array([[ 94, 158,  76],\n",
              "       [100, 176,  64],\n",
              "       [188,  82, 166],\n",
              "       [152, 100, 140],\n",
              "       [ 18, 178, 108]])"
            ]
          },
          "metadata": {
            "tags": []
          },
          "execution_count": 11
        }
      ]
    },
    {
      "cell_type": "code",
      "metadata": {
        "id": "tUd-b881yD4j",
        "colab_type": "code",
        "colab": {
          "base_uri": "https://localhost:8080/",
          "height": 98
        },
        "outputId": "3033cea4-753e-4473-ad6d-0192722f08a6"
      },
      "source": [
        "# Divide every value by 3\n",
        "arr/3"
      ],
      "execution_count": 12,
      "outputs": [
        {
          "output_type": "execute_result",
          "data": {
            "text/plain": [
              "array([[15.66666667, 26.33333333, 12.66666667],\n",
              "       [16.66666667, 29.33333333, 10.66666667],\n",
              "       [31.33333333, 13.66666667, 27.66666667],\n",
              "       [25.33333333, 16.66666667, 23.33333333],\n",
              "       [ 3.        , 29.66666667, 18.        ]])"
            ]
          },
          "metadata": {
            "tags": []
          },
          "execution_count": 12
        }
      ]
    },
    {
      "cell_type": "code",
      "metadata": {
        "id": "KkUZ7dyzyD7i",
        "colab_type": "code",
        "colab": {}
      },
      "source": [
        "# Increase the values in the first row by 12:"
      ],
      "execution_count": 0,
      "outputs": []
    },
    {
      "cell_type": "code",
      "metadata": {
        "id": "5ozvDPrazXp2",
        "colab_type": "code",
        "colab": {
          "base_uri": "https://localhost:8080/",
          "height": 33
        },
        "outputId": "00d19924-69d3-4c56-ac82-4ef8316ad055"
      },
      "source": [
        "arr[0]+12"
      ],
      "execution_count": 13,
      "outputs": [
        {
          "output_type": "execute_result",
          "data": {
            "text/plain": [
              "array([59, 91, 50])"
            ]
          },
          "metadata": {
            "tags": []
          },
          "execution_count": 13
        }
      ]
    },
    {
      "cell_type": "code",
      "metadata": {
        "id": "hB3uPRD3yD-C",
        "colab_type": "code",
        "colab": {}
      },
      "source": [
        "# Calculate the mean of the first column:"
      ],
      "execution_count": 0,
      "outputs": []
    },
    {
      "cell_type": "code",
      "metadata": {
        "id": "IlK1RjuVziFJ",
        "colab_type": "code",
        "colab": {
          "base_uri": "https://localhost:8080/",
          "height": 33
        },
        "outputId": "882e4721-596e-4689-8534-df22f86775c3"
      },
      "source": [
        "np.mean(arr[:,0])"
      ],
      "execution_count": 14,
      "outputs": [
        {
          "output_type": "execute_result",
          "data": {
            "text/plain": [
              "55.2"
            ]
          },
          "metadata": {
            "tags": []
          },
          "execution_count": 14
        }
      ]
    },
    {
      "cell_type": "code",
      "metadata": {
        "id": "alZypjEjyECA",
        "colab_type": "code",
        "colab": {}
      },
      "source": [
        "# Calculate the median of the array after removing the 2 smallest values in the array:"
      ],
      "execution_count": 0,
      "outputs": []
    },
    {
      "cell_type": "code",
      "metadata": {
        "id": "7vffy6rIz6K2",
        "colab_type": "code",
        "colab": {
          "base_uri": "https://localhost:8080/",
          "height": 33
        },
        "outputId": "964dd5db-4d81-4543-a9b6-fbdc50edd8b6"
      },
      "source": [
        "np.median(sorted(arr.flatten())[2:])\n"
      ],
      "execution_count": 29,
      "outputs": [
        {
          "output_type": "execute_result",
          "data": {
            "text/plain": [
              "70.0"
            ]
          },
          "metadata": {
            "tags": []
          },
          "execution_count": 29
        }
      ]
    },
    {
      "cell_type": "code",
      "metadata": {
        "id": "XGiYH8bFyEFh",
        "colab_type": "code",
        "colab": {}
      },
      "source": [
        "# Calculate the standard deviation of the first 3 rows:"
      ],
      "execution_count": 0,
      "outputs": []
    },
    {
      "cell_type": "code",
      "metadata": {
        "id": "h6Nicyyd-j7w",
        "colab_type": "code",
        "colab": {
          "base_uri": "https://localhost:8080/",
          "height": 33
        },
        "outputId": "20969abc-f82b-4de7-de23-df2588bd1da0"
      },
      "source": [
        "np.std(arr[:3])"
      ],
      "execution_count": 33,
      "outputs": [
        {
          "output_type": "execute_result",
          "data": {
            "text/plain": [
              "22.88133640230735"
            ]
          },
          "metadata": {
            "tags": []
          },
          "execution_count": 33
        }
      ]
    },
    {
      "cell_type": "code",
      "metadata": {
        "id": "u9aKhYK-yEJ7",
        "colab_type": "code",
        "colab": {}
      },
      "source": [
        "# Return values in the second column greater than 25:"
      ],
      "execution_count": 0,
      "outputs": []
    },
    {
      "cell_type": "code",
      "metadata": {
        "id": "k7mxsfr2_mTE",
        "colab_type": "code",
        "colab": {
          "base_uri": "https://localhost:8080/",
          "height": 33
        },
        "outputId": "e4a30d24-69d1-4def-b616-db1af8d744b1"
      },
      "source": [
        "x=arr[:,1]\n",
        "x[x>25]"
      ],
      "execution_count": 44,
      "outputs": [
        {
          "output_type": "execute_result",
          "data": {
            "text/plain": [
              "array([79, 88, 41, 50, 89])"
            ]
          },
          "metadata": {
            "tags": []
          },
          "execution_count": 44
        }
      ]
    },
    {
      "cell_type": "code",
      "metadata": {
        "id": "x7bGp6GOyENI",
        "colab_type": "code",
        "colab": {}
      },
      "source": [
        "# Return values in the array under 40:"
      ],
      "execution_count": 0,
      "outputs": []
    },
    {
      "cell_type": "code",
      "metadata": {
        "id": "Tt_pls5ABPsu",
        "colab_type": "code",
        "colab": {
          "base_uri": "https://localhost:8080/",
          "height": 33
        },
        "outputId": "1fd90f09-4217-4837-d6d9-ba718223f798"
      },
      "source": [
        "arr[arr<40]"
      ],
      "execution_count": 46,
      "outputs": [
        {
          "output_type": "execute_result",
          "data": {
            "text/plain": [
              "array([38, 32,  9])"
            ]
          },
          "metadata": {
            "tags": []
          },
          "execution_count": 46
        }
      ]
    }
  ]
}