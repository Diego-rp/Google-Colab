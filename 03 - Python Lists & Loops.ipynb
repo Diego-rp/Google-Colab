{
  "nbformat": 4,
  "nbformat_minor": 0,
  "metadata": {
    "colab": {
      "name": "DIEGO_RODRIGUEZ_1_2",
      "provenance": [],
      "collapsed_sections": [],
      "include_colab_link": true
    },
    "kernelspec": {
      "name": "python3",
      "display_name": "Python 3"
    }
  },
  "cells": [
    {
      "cell_type": "markdown",
      "metadata": {
        "id": "view-in-github",
        "colab_type": "text"
      },
      "source": [
        "<a href=\"https://colab.research.google.com/github/Diego-rp/Google-Colab/blob/master/03%20-%20Python%20Lists%20%26%20Loops.ipynb\" target=\"_parent\"><img src=\"https://colab.research.google.com/assets/colab-badge.svg\" alt=\"Open In Colab\"/></a>"
      ]
    },
    {
      "cell_type": "markdown",
      "metadata": {
        "id": "ZvNsvUNNlZbi",
        "colab_type": "text"
      },
      "source": [
        "---\n",
        "# Lambda School Data Science - Intro to Python  \n",
        "---\n",
        "# 03 - Python Lists & Loops\n",
        "---\n",
        "\n"
      ]
    },
    {
      "cell_type": "markdown",
      "metadata": {
        "id": "y8HUQb0OOztX",
        "colab_type": "text"
      },
      "source": [
        "##STOP! BEFORE GOING ANY FURTHER...  \n",
        "\n",
        "\n",
        "1. Click \"File\" at the top.\n",
        "2. Then, \"Save a Copy in Drive.\"\n",
        "3. Change the file name to \"FIRSTNAME_LASTNAME_1_2\"  \n",
        "\n",
        "Now you have a copy of this notebook in your Drive account. This is the copy you'll edit and submit. Be sure to do this for ***every*** assignment!\n",
        "\n"
      ]
    },
    {
      "cell_type": "markdown",
      "metadata": {
        "id": "o57NvhYkBjKH",
        "colab_type": "text"
      },
      "source": [
        "## Part 1: Lists\n"
      ]
    },
    {
      "cell_type": "markdown",
      "metadata": {
        "id": "4haXpvn1QXW_",
        "colab_type": "text"
      },
      "source": [
        "### Use the provided lists to answer the questions and prompts.\n",
        "Make sure to run the cell so the lists are declared with their corresponding values."
      ]
    },
    {
      "cell_type": "code",
      "metadata": {
        "id": "PweN-CTws2EV",
        "colab_type": "code",
        "colab": {}
      },
      "source": [
        "heights = [184, 177, 190, 188, 159, 166]\n",
        "weights = [84.5, 81.8, 86.1, 92.2, 69.6, 72.0 ]   \n",
        "names = ['John', 'Ryan', 'Bobby', 'Pete', 'Esther', 'Jane']"
      ],
      "execution_count": 0,
      "outputs": []
    },
    {
      "cell_type": "markdown",
      "metadata": {
        "id": "hC6x5WJaMRGx",
        "colab_type": "text"
      },
      "source": [
        "### 1.1 Create a new empty list named \"BMI\"."
      ]
    },
    {
      "cell_type": "code",
      "metadata": {
        "id": "blYjgR9iMdWF",
        "colab_type": "code",
        "outputId": "e274ce36-8f09-408f-c46e-e5fbc1e80a23",
        "colab": {
          "base_uri": "https://localhost:8080/",
          "height": 33
        }
      },
      "source": [
        "BMI = []"
      ],
      "execution_count": 0,
      "outputs": [
        {
          "output_type": "stream",
          "text": [
            "177\n"
          ],
          "name": "stdout"
        }
      ]
    },
    {
      "cell_type": "markdown",
      "metadata": {
        "id": "QSk1zFf4Qbzk",
        "colab_type": "text"
      },
      "source": [
        "### 1.2 Combine the three lists into a new list where each element is a person's name, weight, and height. Call it \"person_data\".\n",
        "\n",
        "\n",
        "\n"
      ]
    },
    {
      "cell_type": "code",
      "metadata": {
        "id": "i-d3b4fqQe9z",
        "colab_type": "code",
        "outputId": "e4cf58dc-46e4-4c9a-d3f2-76e034ecbf04",
        "colab": {
          "base_uri": "https://localhost:8080/",
          "height": 33
        }
      },
      "source": [
        "person_data=[]\n",
        "for i in range(len(names)):\n",
        "  person_data.append([names[i], weights[i], heights[i]])\n",
        "\n",
        "print(person_data)\n"
      ],
      "execution_count": 0,
      "outputs": [
        {
          "output_type": "stream",
          "text": [
            "[['John', 84.5, 184], ['Ryan', 81.8, 177], ['Bobby', 86.1, 190], ['Pete', 92.2, 188], ['Esther', 69.6, 159], ['Jane', 72.0, 166]]\n"
          ],
          "name": "stdout"
        }
      ]
    },
    {
      "cell_type": "markdown",
      "metadata": {
        "id": "y_dSEp2ZNS20",
        "colab_type": "text"
      },
      "source": [
        "### 1.3 Retrieve the last element of person_data."
      ]
    },
    {
      "cell_type": "code",
      "metadata": {
        "id": "h6DN1X3KNTHo",
        "colab_type": "code",
        "outputId": "e53dbaa6-618d-4a01-dcad-f1ee9c214ffc",
        "colab": {
          "base_uri": "https://localhost:8080/",
          "height": 33
        }
      },
      "source": [
        "person_data[-1]"
      ],
      "execution_count": 0,
      "outputs": [
        {
          "output_type": "execute_result",
          "data": {
            "text/plain": [
              "['Jane', 72.0, 166]"
            ]
          },
          "metadata": {
            "tags": []
          },
          "execution_count": 16
        }
      ]
    },
    {
      "cell_type": "markdown",
      "metadata": {
        "id": "_L1Cbf6lNd5s",
        "colab_type": "text"
      },
      "source": [
        "### 1.4 Retrieve the 2nd and 3rd elements of person_data."
      ]
    },
    {
      "cell_type": "code",
      "metadata": {
        "id": "ZFxi1aWPNcse",
        "colab_type": "code",
        "outputId": "e9484c00-0142-4fa0-f0d4-814f85c0e0e3",
        "colab": {
          "base_uri": "https://localhost:8080/",
          "height": 33
        }
      },
      "source": [
        "person_data[1:3]"
      ],
      "execution_count": 0,
      "outputs": [
        {
          "output_type": "execute_result",
          "data": {
            "text/plain": [
              "[['Ryan', 81.8, 177], ['Bobby', 86.1, 190]]"
            ]
          },
          "metadata": {
            "tags": []
          },
          "execution_count": 18
        }
      ]
    },
    {
      "cell_type": "markdown",
      "metadata": {
        "id": "MzTE8IADOKUR",
        "colab_type": "text"
      },
      "source": [
        "### 1.5 Change the 1st element of person_data: increase weight to 84.9. Keep the other values unchanged."
      ]
    },
    {
      "cell_type": "code",
      "metadata": {
        "id": "v-GL2nysOJLm",
        "colab_type": "code",
        "outputId": "ca45e06d-7d51-49e4-8c6a-9d1a17850d0c",
        "colab": {
          "base_uri": "https://localhost:8080/",
          "height": 33
        }
      },
      "source": [
        "person_data[0][1]=84.9\n",
        "print(person_data)"
      ],
      "execution_count": 0,
      "outputs": [
        {
          "output_type": "stream",
          "text": [
            "[['John', 84.9, 184], ['Ryan', 81.8, 177], ['Bobby', 86.1, 190], ['Pete', 92.2, 188], ['Esther', 69.6, 159], ['Jane', 72.0, 166]]\n"
          ],
          "name": "stdout"
        }
      ]
    },
    {
      "cell_type": "markdown",
      "metadata": {
        "id": "P1f4pyPjNlzm",
        "colab_type": "text"
      },
      "source": [
        "### 1.6 Add another person, Samantha, to person_data. Her height is 162 cm and her weight is 51.3 kg. "
      ]
    },
    {
      "cell_type": "code",
      "metadata": {
        "id": "FCHkHuwRNc17",
        "colab_type": "code",
        "outputId": "3ad667a1-3e99-4a32-9294-7f5548c545d7",
        "colab": {
          "base_uri": "https://localhost:8080/",
          "height": 33
        }
      },
      "source": [
        "person_data.append(['Samantha', 51.3, 162])\n",
        "print(person_data)"
      ],
      "execution_count": 0,
      "outputs": [
        {
          "output_type": "stream",
          "text": [
            "[['John', 84.9, 184], ['Ryan', 81.8, 177], ['Bobby', 86.1, 190], ['Pete', 92.2, 188], ['Esther', 69.6, 159], ['Jane', 72.0, 166], ['Samantha', 51.3, 162]]\n"
          ],
          "name": "stdout"
        }
      ]
    },
    {
      "cell_type": "markdown",
      "metadata": {
        "id": "_pdhsa2YOxwj",
        "colab_type": "text"
      },
      "source": [
        "## Part 2: Loops"
      ]
    },
    {
      "cell_type": "markdown",
      "metadata": {
        "id": "1R_O3Uu3O2--",
        "colab_type": "text"
      },
      "source": [
        "### 2.1 Explain a for loop in your own words."
      ]
    },
    {
      "cell_type": "code",
      "metadata": {
        "id": "T34gNW4hNc97",
        "colab_type": "code",
        "colab": {}
      },
      "source": [
        "# Comment your answer like so..."
      ],
      "execution_count": 0,
      "outputs": []
    },
    {
      "cell_type": "markdown",
      "metadata": {
        "id": "n-K_-jnoPArb",
        "colab_type": "text"
      },
      "source": [
        "A *for* loop is a way to iterate for a defined range, either number or elements of an object (list, dict, tuple, etc)\n",
        "\n",
        "It will run until a condition is met, and it has the possibility to define the amount to change in every iteration. "
      ]
    },
    {
      "cell_type": "markdown",
      "metadata": {
        "id": "73tWnAoaPHNf",
        "colab_type": "text"
      },
      "source": [
        "### 2.2 Use a for loop to calculate the BMI of each person.\n",
        ">$\\frac{Weight(kg)}{Height(m)^2} = BMI$  "
      ]
    },
    {
      "cell_type": "code",
      "metadata": {
        "id": "jDNPq4I3Nc8J",
        "colab_type": "code",
        "outputId": "bf6ab1a9-5cdc-448d-b588-8281ac72271e",
        "colab": {
          "base_uri": "https://localhost:8080/",
          "height": 53
        }
      },
      "source": [
        "BMI=[]\n",
        "for i in range(len(person_data)):\n",
        "  BMI.append([person_data[i][0], person_data[i][1]/((person_data[i][2]/100)**2)])\n",
        "\n",
        "print(BMI)"
      ],
      "execution_count": 0,
      "outputs": [
        {
          "output_type": "stream",
          "text": [
            "[['John', 25.07679584120983], ['Ryan', 26.109993935331477], ['Bobby', 23.850415512465375], ['Pete', 26.086464463558173], ['Esther', 27.530556544440483], ['Jane', 26.1286108288576], ['Samantha', 19.547325102880652]]\n"
          ],
          "name": "stdout"
        }
      ]
    },
    {
      "cell_type": "markdown",
      "metadata": {
        "id": "rIRg70QvOxCu",
        "colab_type": "text"
      },
      "source": [
        "### 2.2 BONUS: Do it using list comprehension."
      ]
    },
    {
      "cell_type": "code",
      "metadata": {
        "id": "hLfuTidrPhiQ",
        "colab_type": "code",
        "outputId": "57266ed7-7c26-4f15-be6c-847db991855c",
        "colab": {
          "base_uri": "https://localhost:8080/",
          "height": 53
        }
      },
      "source": [
        "BMI2 = [[person_data[i][0], person_data[i][1]/((person_data[i][2]/100)**2)] for i in range(len(person_data))]\n",
        "\n",
        "print(BMI2)"
      ],
      "execution_count": 0,
      "outputs": [
        {
          "output_type": "stream",
          "text": [
            "[['John', 25.07679584120983], ['Ryan', 26.109993935331477], ['Bobby', 23.850415512465375], ['Pete', 26.086464463558173], ['Esther', 27.530556544440483], ['Jane', 26.1286108288576], ['Samantha', 19.547325102880652]]\n"
          ],
          "name": "stdout"
        }
      ]
    }
  ]
}