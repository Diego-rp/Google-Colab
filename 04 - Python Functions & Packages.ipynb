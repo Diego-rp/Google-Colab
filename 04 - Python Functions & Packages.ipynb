{
  "nbformat": 4,
  "nbformat_minor": 0,
  "metadata": {
    "colab": {
      "name": "DIEGO_RODRIGUEZ_1_2",
      "provenance": [],
      "collapsed_sections": [],
      "include_colab_link": true
    },
    "kernelspec": {
      "name": "python3",
      "display_name": "Python 3"
    }
  },
  "cells": [
    {
      "cell_type": "markdown",
      "metadata": {
        "id": "view-in-github",
        "colab_type": "text"
      },
      "source": [
        "<a href=\"https://colab.research.google.com/github/Diego-rp/Google-Colab/blob/master/04%20-%20Python%20Functions%20%26%20Packages.ipynb\" target=\"_parent\"><img src=\"https://colab.research.google.com/assets/colab-badge.svg\" alt=\"Open In Colab\"/></a>"
      ]
    },
    {
      "cell_type": "markdown",
      "metadata": {
        "id": "ZvNsvUNNlZbi",
        "colab_type": "text"
      },
      "source": [
        "---\n",
        "# Lambda School Data Science - Intro to Python  \n",
        "---\n",
        "# 04 - Python Functions & Packages\n",
        "---\n",
        "\n"
      ]
    },
    {
      "cell_type": "markdown",
      "metadata": {
        "id": "y8HUQb0OOztX",
        "colab_type": "text"
      },
      "source": [
        "##STOP! BEFORE GOING ANY FURTHER...  \n",
        "\n",
        "\n",
        "1. Click \"File\" at the top.\n",
        "2. Then, \"Save a Copy in Drive.\"\n",
        "3. Change the file name to \"FIRSTNAME_LASTNAME_1_2\"  \n",
        "\n",
        "Now you have a copy of this notebook in your Drive account. This is the copy you'll edit and submit. Be sure to do this for ***every*** assignment!\n",
        "\n",
        "\n"
      ]
    },
    {
      "cell_type": "markdown",
      "metadata": {
        "id": "o57NvhYkBjKH",
        "colab_type": "text"
      },
      "source": [
        "## Part 1: Functions\n"
      ]
    },
    {
      "cell_type": "markdown",
      "metadata": {
        "id": "xMq6Of2Gt24o",
        "colab_type": "text"
      },
      "source": [
        "### Built-in functions\n",
        "\n",
        "\n",
        "---\n",
        "\n",
        "\n",
        "Make sure to run the cell below before beginning your assignment."
      ]
    },
    {
      "cell_type": "code",
      "metadata": {
        "id": "h3r0IvHVuGJb",
        "colab_type": "code",
        "colab": {}
      },
      "source": [
        "x = [\"a\", \"b\", \"c\", \"d\", \"e\", \"f\"]"
      ],
      "execution_count": 0,
      "outputs": []
    },
    {
      "cell_type": "markdown",
      "metadata": {
        "id": "4haXpvn1QXW_",
        "colab_type": "text"
      },
      "source": [
        "### 1.1 For the list of values provided:\n",
        "\n",
        "\n",
        "*   Max?\n",
        "*   Min?\n",
        "*   Number of elements in the list?\n",
        "*   Sort the list in _descending_ order.\n",
        "\n"
      ]
    },
    {
      "cell_type": "code",
      "metadata": {
        "id": "j79FBPrS3TFS",
        "colab_type": "code",
        "colab": {}
      },
      "source": [
        ""
      ],
      "execution_count": 0,
      "outputs": []
    },
    {
      "cell_type": "markdown",
      "metadata": {
        "id": "zqzzZomJ0IKf",
        "colab_type": "text"
      },
      "source": [
        "### Methods\n",
        "\n",
        "\n",
        "---\n",
        "\n"
      ]
    },
    {
      "cell_type": "markdown",
      "metadata": {
        "id": "8EYDz3UtQflV",
        "colab_type": "text"
      },
      "source": [
        "### 1.2 Using the same list:\n",
        "\n",
        "*  Remove the second to last element. \n",
        "*  Add the letter \"z\" to the list.\n",
        "*  Empty out the list.\n"
      ]
    },
    {
      "cell_type": "code",
      "metadata": {
        "id": "HOf18kjSQjZM",
        "colab_type": "code",
        "colab": {}
      },
      "source": [
        ""
      ],
      "execution_count": 0,
      "outputs": []
    },
    {
      "cell_type": "markdown",
      "metadata": {
        "id": "wTJ29ehV4aEA",
        "colab_type": "text"
      },
      "source": [
        "### 1.3 For the string provided:\n",
        "\n",
        "* Capitalize the entire string.\n",
        "* Split the string at every empty space."
      ]
    },
    {
      "cell_type": "code",
      "metadata": {
        "id": "eoKEv5uS4w29",
        "colab_type": "code",
        "colab": {}
      },
      "source": [
        "y = \"to thine own self be true, and it must follow, as the night the day, thou canst not then be false to any man.\""
      ],
      "execution_count": 0,
      "outputs": []
    },
    {
      "cell_type": "markdown",
      "metadata": {
        "id": "B5hfG_xs0fp0",
        "colab_type": "text"
      },
      "source": [
        "### Custom Functions\n",
        "\n",
        "\n",
        "---\n",
        "\n"
      ]
    },
    {
      "cell_type": "markdown",
      "metadata": {
        "id": "SrhmB_rj0rhB",
        "colab_type": "text"
      },
      "source": [
        "### 1.4 Create a function that returns the sum of two numbers."
      ]
    },
    {
      "cell_type": "code",
      "metadata": {
        "id": "snTXP3DI0qTX",
        "colab_type": "code",
        "colab": {}
      },
      "source": [
        ""
      ],
      "execution_count": 0,
      "outputs": []
    },
    {
      "cell_type": "markdown",
      "metadata": {
        "id": "YcEwAg9w6PDQ",
        "colab_type": "text"
      },
      "source": [
        "### 1.5 Create a function that, given a list of numbers, returns their average."
      ]
    },
    {
      "cell_type": "code",
      "metadata": {
        "id": "CM4cRycq6PTC",
        "colab_type": "code",
        "colab": {}
      },
      "source": [
        ""
      ],
      "execution_count": 0,
      "outputs": []
    },
    {
      "cell_type": "markdown",
      "metadata": {
        "id": "PDLwYCAn6PbL",
        "colab_type": "text"
      },
      "source": [
        "### 1.6 Create a function that, given a string, returns that string capitalized and reversed. "
      ]
    },
    {
      "cell_type": "code",
      "metadata": {
        "id": "lp412i2e6PiN",
        "colab_type": "code",
        "colab": {}
      },
      "source": [
        ""
      ],
      "execution_count": 0,
      "outputs": []
    },
    {
      "cell_type": "markdown",
      "metadata": {
        "id": "MHeit5A_6Pot",
        "colab_type": "text"
      },
      "source": [
        "### 1.7 Create a function that, given a list of strings, concatenates them together with proper spacing."
      ]
    },
    {
      "cell_type": "code",
      "metadata": {
        "id": "nHA4Rg6W6Puu",
        "colab_type": "code",
        "colab": {}
      },
      "source": [
        ""
      ],
      "execution_count": 0,
      "outputs": []
    },
    {
      "cell_type": "markdown",
      "metadata": {
        "id": "GFpCBnZolyWY",
        "colab_type": "text"
      },
      "source": [
        "## Part 2: Packages"
      ]
    },
    {
      "cell_type": "markdown",
      "metadata": {
        "id": "_sq5HypwyvXS",
        "colab_type": "text"
      },
      "source": [
        "### 2.1 Import the Random library and use it to create a list of ten random numbers from 0-50.\n",
        "There are several ways to do this. Google around and find one that you can replicate here. "
      ]
    },
    {
      "cell_type": "code",
      "metadata": {
        "id": "XD5JruLw1wv4",
        "colab_type": "code",
        "colab": {}
      },
      "source": [
        ""
      ],
      "execution_count": 0,
      "outputs": []
    },
    {
      "cell_type": "markdown",
      "metadata": {
        "colab_type": "text",
        "id": "S_-lYWqF1P3_"
      },
      "source": [
        "### 2.2 Import the Numpy library and assign it an alias \"np\". Then change the list of random numbers you generated into a Numpy array."
      ]
    },
    {
      "cell_type": "code",
      "metadata": {
        "id": "z06r0lKJl04z",
        "colab_type": "code",
        "colab": {}
      },
      "source": [
        ""
      ],
      "execution_count": 0,
      "outputs": []
    },
    {
      "cell_type": "markdown",
      "metadata": {
        "id": "Q1E9d9Uq08U-",
        "colab_type": "text"
      },
      "source": [
        "### 2.3 Calculate the mean of the Numpy array. (Hint: Numpy has a method for this.)\n"
      ]
    },
    {
      "cell_type": "code",
      "metadata": {
        "id": "Egm3s6S91Ann",
        "colab_type": "code",
        "colab": {}
      },
      "source": [
        ""
      ],
      "execution_count": 0,
      "outputs": []
    },
    {
      "cell_type": "markdown",
      "metadata": {
        "id": "BEXzJ3DWy3MF",
        "colab_type": "text"
      },
      "source": [
        "### Easter Egg: \n",
        "In the cell below, run the following command and see what happens :)  \n",
        "`import this`  \n"
      ]
    },
    {
      "cell_type": "code",
      "metadata": {
        "id": "M3oNCZv-zkpZ",
        "colab_type": "code",
        "colab": {}
      },
      "source": [
        ""
      ],
      "execution_count": 0,
      "outputs": []
    },
    {
      "cell_type": "markdown",
      "metadata": {
        "id": "qVG_ZZyfTjyB",
        "colab_type": "text"
      },
      "source": [
        "### Submit your assignment notebook! (Make sure you've changed the name to FIRSTNAME_LASTNAME_1_2): \n",
        "\n",
        "1.  Click the Share button in the upper-right hand corner of the notebook.\n",
        "2.  Get the shareable link.\n",
        "3.  Set condition to: \"Anyone with the link can comment.\"\n",
        "4.  TBD \n",
        "\n"
      ]
    }
  ]
}