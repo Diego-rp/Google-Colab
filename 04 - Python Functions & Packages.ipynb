{
  "nbformat": 4,
  "nbformat_minor": 0,
  "metadata": {
    "colab": {
      "name": "DIEGO_RODRIGUEZ_1_2",
      "provenance": [],
      "collapsed_sections": [],
      "include_colab_link": true
    },
    "kernelspec": {
      "name": "python3",
      "display_name": "Python 3"
    }
  },
  "cells": [
    {
      "cell_type": "markdown",
      "metadata": {
        "id": "view-in-github",
        "colab_type": "text"
      },
      "source": [
        "<a href=\"https://colab.research.google.com/github/Diego-rp/Google-Colab/blob/master/04%20-%20Python%20Functions%20%26%20Packages.ipynb\" target=\"_parent\"><img src=\"https://colab.research.google.com/assets/colab-badge.svg\" alt=\"Open In Colab\"/></a>"
      ]
    },
    {
      "cell_type": "markdown",
      "metadata": {
        "id": "ZvNsvUNNlZbi",
        "colab_type": "text"
      },
      "source": [
        "---\n",
        "# Lambda School Data Science - Intro to Python  \n",
        "---\n",
        "# 04 - Python Functions & Packages\n",
        "---\n",
        "\n"
      ]
    },
    {
      "cell_type": "markdown",
      "metadata": {
        "id": "y8HUQb0OOztX",
        "colab_type": "text"
      },
      "source": [
        "##STOP! BEFORE GOING ANY FURTHER...  \n",
        "\n",
        "\n",
        "1. Click \"File\" at the top.\n",
        "2. Then, \"Save a Copy in Drive.\"\n",
        "3. Change the file name to \"FIRSTNAME_LASTNAME_1_2\"  \n",
        "\n",
        "Now you have a copy of this notebook in your Drive account. This is the copy you'll edit and submit. Be sure to do this for ***every*** assignment!\n",
        "\n",
        "\n"
      ]
    },
    {
      "cell_type": "markdown",
      "metadata": {
        "id": "o57NvhYkBjKH",
        "colab_type": "text"
      },
      "source": [
        "## Part 1: Functions\n"
      ]
    },
    {
      "cell_type": "markdown",
      "metadata": {
        "id": "xMq6Of2Gt24o",
        "colab_type": "text"
      },
      "source": [
        "### Built-in functions\n",
        "\n",
        "\n",
        "---\n",
        "\n",
        "\n",
        "Make sure to run the cell below before beginning your assignment."
      ]
    },
    {
      "cell_type": "code",
      "metadata": {
        "id": "h3r0IvHVuGJb",
        "colab_type": "code",
        "colab": {}
      },
      "source": [
        "x = [\"a\", \"b\", \"c\", \"d\", \"e\", \"f\"]"
      ],
      "execution_count": 0,
      "outputs": []
    },
    {
      "cell_type": "markdown",
      "metadata": {
        "id": "4haXpvn1QXW_",
        "colab_type": "text"
      },
      "source": [
        "### 1.1 For the list of values provided:\n",
        "\n",
        "\n",
        "*   Max?\n",
        "*   Min?\n",
        "*   Number of elements in the list?\n",
        "*   Sort the list in _descending_ order.\n",
        "\n"
      ]
    },
    {
      "cell_type": "code",
      "metadata": {
        "id": "j79FBPrS3TFS",
        "colab_type": "code",
        "outputId": "38cd83c6-3897-4ab3-89e3-24b3ba665a75",
        "colab": {
          "base_uri": "https://localhost:8080/",
          "height": 82
        }
      },
      "source": [
        "print(max(x))\n",
        "print(min(x))\n",
        "print(len(x))\n",
        "print(sorted(x, reverse=True))"
      ],
      "execution_count": 0,
      "outputs": [
        {
          "output_type": "stream",
          "text": [
            "f\n",
            "a\n",
            "6\n",
            "['f', 'e', 'd', 'c', 'b', 'a']\n"
          ],
          "name": "stdout"
        }
      ]
    },
    {
      "cell_type": "markdown",
      "metadata": {
        "id": "zqzzZomJ0IKf",
        "colab_type": "text"
      },
      "source": [
        "### Methods\n",
        "\n",
        "\n",
        "---\n",
        "\n"
      ]
    },
    {
      "cell_type": "markdown",
      "metadata": {
        "id": "8EYDz3UtQflV",
        "colab_type": "text"
      },
      "source": [
        "### 1.2 Using the same list:\n",
        "\n",
        "*  Remove the second to last element. \n",
        "*  Add the letter \"z\" to the list.\n",
        "*  Empty out the list.\n"
      ]
    },
    {
      "cell_type": "code",
      "metadata": {
        "id": "HOf18kjSQjZM",
        "colab_type": "code",
        "outputId": "9858a2c5-6628-4949-f258-c8320f3e7239",
        "colab": {
          "base_uri": "https://localhost:8080/",
          "height": 33
        }
      },
      "source": [
        "del x[1:]\n",
        "x.append('z')\n",
        "x.clear()\n",
        "print(x)"
      ],
      "execution_count": 0,
      "outputs": [
        {
          "output_type": "stream",
          "text": [
            "[]\n"
          ],
          "name": "stdout"
        }
      ]
    },
    {
      "cell_type": "markdown",
      "metadata": {
        "id": "wTJ29ehV4aEA",
        "colab_type": "text"
      },
      "source": [
        "### 1.3 For the string provided:\n",
        "\n",
        "* Capitalize the entire string.\n",
        "* Split the string at every empty space."
      ]
    },
    {
      "cell_type": "code",
      "metadata": {
        "id": "eoKEv5uS4w29",
        "colab_type": "code",
        "outputId": "148d888f-befe-424d-c3f6-37e36323c05f",
        "colab": {
          "base_uri": "https://localhost:8080/",
          "height": 82
        }
      },
      "source": [
        "y = \"to thine own self be true, and it must follow, as the night the day, thou canst not then be false to any man.\"\n",
        "\n",
        "Y = y.capitalize()\n",
        "print(Y)\n",
        "\n",
        "Y1 = y.title()\n",
        "print(Y1)\n",
        "\n",
        "Y2 = y.upper()\n",
        "print(Y2)\n",
        "\n",
        "empty_spaces = y.split()\n",
        "print(empty_spaces)"
      ],
      "execution_count": 0,
      "outputs": [
        {
          "output_type": "stream",
          "text": [
            "To thine own self be true, and it must follow, as the night the day, thou canst not then be false to any man.\n",
            "To Thine Own Self Be True, And It Must Follow, As The Night The Day, Thou Canst Not Then Be False To Any Man.\n",
            "TO THINE OWN SELF BE TRUE, AND IT MUST FOLLOW, AS THE NIGHT THE DAY, THOU CANST NOT THEN BE FALSE TO ANY MAN.\n",
            "['to', 'thine', 'own', 'self', 'be', 'true,', 'and', 'it', 'must', 'follow,', 'as', 'the', 'night', 'the', 'day,', 'thou', 'canst', 'not', 'then', 'be', 'false', 'to', 'any', 'man.']\n"
          ],
          "name": "stdout"
        }
      ]
    },
    {
      "cell_type": "markdown",
      "metadata": {
        "id": "B5hfG_xs0fp0",
        "colab_type": "text"
      },
      "source": [
        "### Custom Functions\n",
        "\n",
        "\n",
        "---\n",
        "\n"
      ]
    },
    {
      "cell_type": "markdown",
      "metadata": {
        "id": "SrhmB_rj0rhB",
        "colab_type": "text"
      },
      "source": [
        "### 1.4 Create a function that returns the sum of two numbers."
      ]
    },
    {
      "cell_type": "code",
      "metadata": {
        "id": "snTXP3DI0qTX",
        "colab_type": "code",
        "colab": {}
      },
      "source": [
        "def sum_2 (a,b):\n",
        "  c = a + b\n",
        "  return c\n"
      ],
      "execution_count": 0,
      "outputs": []
    },
    {
      "cell_type": "markdown",
      "metadata": {
        "id": "YcEwAg9w6PDQ",
        "colab_type": "text"
      },
      "source": [
        "### 1.5 Create a function that, given a list of numbers, returns their average."
      ]
    },
    {
      "cell_type": "code",
      "metadata": {
        "id": "CM4cRycq6PTC",
        "colab_type": "code",
        "colab": {}
      },
      "source": [
        "def list_average (a_list):\n",
        "  t=0\n",
        "  for i in range(len(a_list)):\n",
        "    t += a_list[i]\n",
        "  av = t / len(a_list)\n",
        "  return av"
      ],
      "execution_count": 0,
      "outputs": []
    },
    {
      "cell_type": "markdown",
      "metadata": {
        "id": "PDLwYCAn6PbL",
        "colab_type": "text"
      },
      "source": [
        "### 1.6 Create a function that, given a string, returns that string capitalized and reversed. "
      ]
    },
    {
      "cell_type": "code",
      "metadata": {
        "id": "lp412i2e6PiN",
        "colab_type": "code",
        "outputId": "73d6c1de-fbdd-41f6-d107-b2c5d3a5b836",
        "colab": {
          "base_uri": "https://localhost:8080/",
          "height": 33
        }
      },
      "source": [
        "def capi_rev (a_string):\n",
        "  txt = a_string.capitalize()\n",
        "  txt = txt[::-1]\n",
        "  return txt"
      ],
      "execution_count": 0,
      "outputs": [
        {
          "output_type": "execute_result",
          "data": {
            "text/plain": [
              "'sogima aloH'"
            ]
          },
          "metadata": {
            "tags": []
          },
          "execution_count": 25
        }
      ]
    },
    {
      "cell_type": "markdown",
      "metadata": {
        "id": "MHeit5A_6Pot",
        "colab_type": "text"
      },
      "source": [
        "### 1.7 Create a function that, given a list of strings, concatenates them together with proper spacing."
      ]
    },
    {
      "cell_type": "code",
      "metadata": {
        "id": "nHA4Rg6W6Puu",
        "colab_type": "code",
        "outputId": "fb1b3430-c981-4ad5-c02d-76ff99fe04ec",
        "colab": {
          "base_uri": "https://localhost:8080/",
          "height": 33
        }
      },
      "source": [
        "def concat_string (a_list):\n",
        "  final = a_list[0]\n",
        "  for i in range(1, len(a_list)):\n",
        "    final = final +' '+ a_list[i]\n",
        "  return final"
      ],
      "execution_count": 0,
      "outputs": [
        {
          "output_type": "execute_result",
          "data": {
            "text/plain": [
              "'hola queridos amigos'"
            ]
          },
          "metadata": {
            "tags": []
          },
          "execution_count": 31
        }
      ]
    },
    {
      "cell_type": "markdown",
      "metadata": {
        "id": "GFpCBnZolyWY",
        "colab_type": "text"
      },
      "source": [
        "## Part 2: Packages"
      ]
    },
    {
      "cell_type": "markdown",
      "metadata": {
        "id": "_sq5HypwyvXS",
        "colab_type": "text"
      },
      "source": [
        "### 2.1 Import the Random library and use it to create a list of ten random numbers from 0-50.\n",
        "There are several ways to do this. Google around and find one that you can replicate here. "
      ]
    },
    {
      "cell_type": "code",
      "metadata": {
        "id": "XD5JruLw1wv4",
        "colab_type": "code",
        "colab": {}
      },
      "source": [
        "import random\n",
        "\n",
        "a_list = []\n",
        "for i in range(10): \n",
        "  a_list.append(random.randint(0,50))\n"
      ],
      "execution_count": 0,
      "outputs": []
    },
    {
      "cell_type": "markdown",
      "metadata": {
        "colab_type": "text",
        "id": "S_-lYWqF1P3_"
      },
      "source": [
        "### 2.2 Import the Numpy library and assign it an alias \"np\". Then change the list of random numbers you generated into a Numpy array."
      ]
    },
    {
      "cell_type": "code",
      "metadata": {
        "id": "z06r0lKJl04z",
        "colab_type": "code",
        "colab": {}
      },
      "source": [
        "import numpy as np\n",
        "\n",
        "arr = np.array(a_list)"
      ],
      "execution_count": 0,
      "outputs": []
    },
    {
      "cell_type": "markdown",
      "metadata": {
        "id": "Q1E9d9Uq08U-",
        "colab_type": "text"
      },
      "source": [
        "### 2.3 Calculate the mean of the Numpy array. (Hint: Numpy has a method for this.)\n"
      ]
    },
    {
      "cell_type": "code",
      "metadata": {
        "id": "Egm3s6S91Ann",
        "colab_type": "code",
        "outputId": "19bd8b3c-4451-4152-eae0-6d9852ba31ae",
        "colab": {
          "base_uri": "https://localhost:8080/",
          "height": 33
        }
      },
      "source": [
        "np.ndarray.mean(arr)"
      ],
      "execution_count": 0,
      "outputs": [
        {
          "output_type": "execute_result",
          "data": {
            "text/plain": [
              "23.7"
            ]
          },
          "metadata": {
            "tags": []
          },
          "execution_count": 49
        }
      ]
    },
    {
      "cell_type": "markdown",
      "metadata": {
        "id": "BEXzJ3DWy3MF",
        "colab_type": "text"
      },
      "source": [
        "### Easter Egg: \n",
        "In the cell below, run the following command and see what happens :)  \n",
        "`import this`  \n"
      ]
    },
    {
      "cell_type": "code",
      "metadata": {
        "id": "M3oNCZv-zkpZ",
        "colab_type": "code",
        "outputId": "aa0e4f72-2533-4240-f978-0ca7c5fffea6",
        "colab": {
          "base_uri": "https://localhost:8080/",
          "height": 358
        }
      },
      "source": [
        "import this"
      ],
      "execution_count": 0,
      "outputs": [
        {
          "output_type": "stream",
          "text": [
            "The Zen of Python, by Tim Peters\n",
            "\n",
            "Beautiful is better than ugly.\n",
            "Explicit is better than implicit.\n",
            "Simple is better than complex.\n",
            "Complex is better than complicated.\n",
            "Flat is better than nested.\n",
            "Sparse is better than dense.\n",
            "Readability counts.\n",
            "Special cases aren't special enough to break the rules.\n",
            "Although practicality beats purity.\n",
            "Errors should never pass silently.\n",
            "Unless explicitly silenced.\n",
            "In the face of ambiguity, refuse the temptation to guess.\n",
            "There should be one-- and preferably only one --obvious way to do it.\n",
            "Although that way may not be obvious at first unless you're Dutch.\n",
            "Now is better than never.\n",
            "Although never is often better than *right* now.\n",
            "If the implementation is hard to explain, it's a bad idea.\n",
            "If the implementation is easy to explain, it may be a good idea.\n",
            "Namespaces are one honking great idea -- let's do more of those!\n"
          ],
          "name": "stdout"
        }
      ]
    },
    {
      "cell_type": "markdown",
      "metadata": {
        "id": "qVG_ZZyfTjyB",
        "colab_type": "text"
      },
      "source": [
        "### Submit your assignment notebook! (Make sure you've changed the name to FIRSTNAME_LASTNAME_1_2): \n",
        "\n",
        "1.  Click the Share button in the upper-right hand corner of the notebook.\n",
        "2.  Get the shareable link.\n",
        "3.  Set condition to: \"Anyone with the link can comment.\"\n",
        "4.  TBD \n",
        "\n"
      ]
    }
  ]
}