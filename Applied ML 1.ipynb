{
  "nbformat": 4,
  "nbformat_minor": 0,
  "metadata": {
    "colab": {
      "name": "DIEGO_RODRIGUEZ_1_2",
      "provenance": [],
      "include_colab_link": true
    },
    "kernelspec": {
      "display_name": "Python 3",
      "language": "python",
      "name": "python3"
    }
  },
  "cells": [
    {
      "cell_type": "markdown",
      "metadata": {
        "id": "view-in-github",
        "colab_type": "text"
      },
      "source": [
        "<a href=\"https://colab.research.google.com/github/Diego-rp/Google-Colab/blob/master/Applied%20ML%201.ipynb\" target=\"_parent\"><img src=\"https://colab.research.google.com/assets/colab-badge.svg\" alt=\"Open In Colab\"/></a>"
      ]
    },
    {
      "cell_type": "markdown",
      "metadata": {
        "id": "T9H4rAOJmyXO",
        "colab_type": "text"
      },
      "source": [
        "# Lambda School, Intro to Data Science, Day 7 — More Regression!\n",
        "\n",
        "## Assignment\n",
        "\n",
        "### 1. Experiment with Nearest Neighbor parameter\n",
        "\n",
        "Using the same 10 training data points from the lesson, train a `KNeighborsRegressor` model with `n_neighbors=1`.\n",
        "\n",
        "Use both `carat` and `cut` features.\n",
        "\n",
        "Calculate the mean absolute error on the training data and on the test data."
      ]
    },
    {
      "cell_type": "code",
      "metadata": {
        "id": "CKsxHHzmmyXP",
        "colab_type": "code",
        "colab": {
          "base_uri": "https://localhost:8080/",
          "height": 335
        },
        "outputId": "ea2a139d-6d82-4c55-a012-d40c91e209f8"
      },
      "source": [
        "%matplotlib inline\n",
        "import matplotlib.pyplot as plt\n",
        "import pandas as pd\n",
        "from sklearn.neighbors import KNeighborsRegressor\n",
        "from sklearn.metrics import mean_absolute_error\n",
        "\n",
        "columns = ['carat', 'cut', 'price']\n",
        "\n",
        "train = pd.DataFrame(columns=columns, \n",
        "        data=[[0.3, 'Ideal', 422],\n",
        "        [0.31, 'Ideal', 489],\n",
        "        [0.42, 'Premium', 737],\n",
        "        [0.5, 'Ideal', 1415],\n",
        "        [0.51, 'Premium', 1177],\n",
        "        [0.7, 'Fair', 1865],\n",
        "        [0.73, 'Fair', 2351],\n",
        "        [1.01, 'Good', 3768],\n",
        "        [1.18, 'Very Good', 3965],\n",
        "        [1.18, 'Ideal', 4838]])\n",
        "\n",
        "test  = pd.DataFrame(columns=columns, \n",
        "        data=[[0.3, 'Ideal', 432],\n",
        "        [0.34, 'Ideal', 687],\n",
        "        [0.37, 'Premium', 1124],\n",
        "        [0.4, 'Good', 720],\n",
        "        [0.51, 'Ideal', 1397],\n",
        "        [0.51, 'Very Good', 1284],\n",
        "        [0.59, 'Ideal', 1437],\n",
        "        [0.7, 'Ideal', 3419],\n",
        "        [0.9, 'Premium', 3484],\n",
        "        [0.9, 'Fair', 2964]])\n",
        "\n",
        "cut_ranks = {'Fair': 1, 'Good': 2, 'Very Good': 3, 'Premium': 4, 'Ideal': 5}\n",
        "train.cut = train.cut.map(cut_ranks)\n",
        "test.cut = test.cut.map(cut_ranks)\n",
        "train"
      ],
      "execution_count": 39,
      "outputs": [
        {
          "output_type": "execute_result",
          "data": {
            "text/html": [
              "<div>\n",
              "<style scoped>\n",
              "    .dataframe tbody tr th:only-of-type {\n",
              "        vertical-align: middle;\n",
              "    }\n",
              "\n",
              "    .dataframe tbody tr th {\n",
              "        vertical-align: top;\n",
              "    }\n",
              "\n",
              "    .dataframe thead th {\n",
              "        text-align: right;\n",
              "    }\n",
              "</style>\n",
              "<table border=\"1\" class=\"dataframe\">\n",
              "  <thead>\n",
              "    <tr style=\"text-align: right;\">\n",
              "      <th></th>\n",
              "      <th>carat</th>\n",
              "      <th>cut</th>\n",
              "      <th>price</th>\n",
              "    </tr>\n",
              "  </thead>\n",
              "  <tbody>\n",
              "    <tr>\n",
              "      <th>0</th>\n",
              "      <td>0.30</td>\n",
              "      <td>5</td>\n",
              "      <td>422</td>\n",
              "    </tr>\n",
              "    <tr>\n",
              "      <th>1</th>\n",
              "      <td>0.31</td>\n",
              "      <td>5</td>\n",
              "      <td>489</td>\n",
              "    </tr>\n",
              "    <tr>\n",
              "      <th>2</th>\n",
              "      <td>0.42</td>\n",
              "      <td>4</td>\n",
              "      <td>737</td>\n",
              "    </tr>\n",
              "    <tr>\n",
              "      <th>3</th>\n",
              "      <td>0.50</td>\n",
              "      <td>5</td>\n",
              "      <td>1415</td>\n",
              "    </tr>\n",
              "    <tr>\n",
              "      <th>4</th>\n",
              "      <td>0.51</td>\n",
              "      <td>4</td>\n",
              "      <td>1177</td>\n",
              "    </tr>\n",
              "    <tr>\n",
              "      <th>5</th>\n",
              "      <td>0.70</td>\n",
              "      <td>1</td>\n",
              "      <td>1865</td>\n",
              "    </tr>\n",
              "    <tr>\n",
              "      <th>6</th>\n",
              "      <td>0.73</td>\n",
              "      <td>1</td>\n",
              "      <td>2351</td>\n",
              "    </tr>\n",
              "    <tr>\n",
              "      <th>7</th>\n",
              "      <td>1.01</td>\n",
              "      <td>2</td>\n",
              "      <td>3768</td>\n",
              "    </tr>\n",
              "    <tr>\n",
              "      <th>8</th>\n",
              "      <td>1.18</td>\n",
              "      <td>3</td>\n",
              "      <td>3965</td>\n",
              "    </tr>\n",
              "    <tr>\n",
              "      <th>9</th>\n",
              "      <td>1.18</td>\n",
              "      <td>5</td>\n",
              "      <td>4838</td>\n",
              "    </tr>\n",
              "  </tbody>\n",
              "</table>\n",
              "</div>"
            ],
            "text/plain": [
              "   carat  cut  price\n",
              "0   0.30    5    422\n",
              "1   0.31    5    489\n",
              "2   0.42    4    737\n",
              "3   0.50    5   1415\n",
              "4   0.51    4   1177\n",
              "5   0.70    1   1865\n",
              "6   0.73    1   2351\n",
              "7   1.01    2   3768\n",
              "8   1.18    3   3965\n",
              "9   1.18    5   4838"
            ]
          },
          "metadata": {
            "tags": []
          },
          "execution_count": 39
        }
      ]
    },
    {
      "cell_type": "code",
      "metadata": {
        "id": "4MrRasT_myXT",
        "colab_type": "code",
        "colab": {
          "base_uri": "https://localhost:8080/",
          "height": 50
        },
        "outputId": "53b77edc-71f7-4dab-cb14-aba0db92f8dd"
      },
      "source": [
        "features = ['carat', 'cut']\n",
        "target = 'price'\n",
        "\n",
        "from sklearn.neighbors import KNeighborsRegressor\n",
        "model = KNeighborsRegressor(n_neighbors=2)\n",
        "\n",
        "model.fit(train[features], train[target])\n",
        "\n",
        "\n",
        "\n",
        "from sklearn.metrics import mean_absolute_error\n",
        "y_true = train[target]\n",
        "y_pred = model.predict(train[features])\n",
        "train_error = mean_absolute_error(y_true, y_pred)\n",
        "\n",
        "\n",
        "y_true = test[target]\n",
        "y_pred = model.predict(test[features])\n",
        "test_error = mean_absolute_error(y_true, y_pred)\n",
        "\n",
        "print('Train Error: $', round(train_error))\n",
        "\n",
        "print('Test Error: $', round(test_error))"
      ],
      "execution_count": 43,
      "outputs": [
        {
          "output_type": "stream",
          "text": [
            "Train Error: $ 336.0\n",
            "Test Error: $ 1059.0\n"
          ],
          "name": "stdout"
        }
      ]
    },
    {
      "cell_type": "markdown",
      "metadata": {
        "id": "NQQveVK9myXV",
        "colab_type": "text"
      },
      "source": [
        "How does the train error and test error compare to the previous `KNeighborsRegressor` model from the lesson? (The previous model used `n_neighbors=2` and only the `carat` feature.)\n",
        "\n",
        "Is this new model overfitting or underfitting? Why do you think this is happening here? \n",
        "\n"
      ]
    },
    {
      "cell_type": "markdown",
      "metadata": {
        "id": "tvmqQJTbk6zw",
        "colab_type": "text"
      },
      "source": [
        "with n_neighbors=1 the train error is 0 because it pass over every single spot. \n",
        "\n",
        "And the test error is 1129 which is not what I would expect from this model"
      ]
    },
    {
      "cell_type": "markdown",
      "metadata": {
        "id": "zQJDW1-QmyXW",
        "colab_type": "text"
      },
      "source": [
        "### 2. More data, two features, linear regression\n",
        "\n",
        "Use the following code to load data for diamonds under $5,000, and split the data into train and test sets. The training data has almost 30,000 rows, and the test data has almost 10,000 rows."
      ]
    },
    {
      "cell_type": "code",
      "metadata": {
        "id": "IDXEn8lvmyXW",
        "colab_type": "code",
        "outputId": "67c15e98-5bc7-4056-fb14-d26837464ec6",
        "colab": {
          "base_uri": "https://localhost:8080/",
          "height": 33
        }
      },
      "source": [
        "import seaborn as sns\n",
        "from sklearn.linear_model import LinearRegression\n",
        "from sklearn.model_selection import train_test_split\n",
        "\n",
        "df = sns.load_dataset('diamonds')\n",
        "df = df[df.price < 5000]\n",
        "df = df[df.color!='NaN']\n",
        "df = df[df.clarity!='NaN']\n",
        "train, test = train_test_split(df.copy(), random_state=0)\n",
        "train.shape, test.shape"
      ],
      "execution_count": 77,
      "outputs": [
        {
          "output_type": "execute_result",
          "data": {
            "text/plain": [
              "((29409, 10), (9804, 10))"
            ]
          },
          "metadata": {
            "tags": []
          },
          "execution_count": 77
        }
      ]
    },
    {
      "cell_type": "code",
      "metadata": {
        "id": "VNtSniaChljZ",
        "colab_type": "code",
        "colab": {
          "base_uri": "https://localhost:8080/",
          "height": 391
        },
        "outputId": "91591aa9-6ae3-4ead-a3b7-8f1f7589473e"
      },
      "source": [
        "train.head(100)\n"
      ],
      "execution_count": 70,
      "outputs": [
        {
          "output_type": "execute_result",
          "data": {
            "text/html": [
              "<div>\n",
              "<style scoped>\n",
              "    .dataframe tbody tr th:only-of-type {\n",
              "        vertical-align: middle;\n",
              "    }\n",
              "\n",
              "    .dataframe tbody tr th {\n",
              "        vertical-align: top;\n",
              "    }\n",
              "\n",
              "    .dataframe thead th {\n",
              "        text-align: right;\n",
              "    }\n",
              "</style>\n",
              "<table border=\"1\" class=\"dataframe\">\n",
              "  <thead>\n",
              "    <tr style=\"text-align: right;\">\n",
              "      <th></th>\n",
              "      <th>carat</th>\n",
              "      <th>cut</th>\n",
              "      <th>color</th>\n",
              "      <th>clarity</th>\n",
              "      <th>depth</th>\n",
              "      <th>table</th>\n",
              "      <th>price</th>\n",
              "      <th>x</th>\n",
              "      <th>y</th>\n",
              "      <th>z</th>\n",
              "    </tr>\n",
              "  </thead>\n",
              "  <tbody>\n",
              "    <tr>\n",
              "      <th>43601</th>\n",
              "      <td>0.31</td>\n",
              "      <td>Very Good</td>\n",
              "      <td>E</td>\n",
              "      <td>SI1</td>\n",
              "      <td>61.2</td>\n",
              "      <td>58.0</td>\n",
              "      <td>507</td>\n",
              "      <td>4.34</td>\n",
              "      <td>4.38</td>\n",
              "      <td>2.67</td>\n",
              "    </tr>\n",
              "    <tr>\n",
              "      <th>52706</th>\n",
              "      <td>0.74</td>\n",
              "      <td>Fair</td>\n",
              "      <td>H</td>\n",
              "      <td>VS2</td>\n",
              "      <td>66.1</td>\n",
              "      <td>61.0</td>\n",
              "      <td>2553</td>\n",
              "      <td>5.60</td>\n",
              "      <td>5.57</td>\n",
              "      <td>3.69</td>\n",
              "    </tr>\n",
              "    <tr>\n",
              "      <th>1986</th>\n",
              "      <td>0.81</td>\n",
              "      <td>Very Good</td>\n",
              "      <td>G</td>\n",
              "      <td>SI1</td>\n",
              "      <td>62.3</td>\n",
              "      <td>59.0</td>\n",
              "      <td>3095</td>\n",
              "      <td>5.93</td>\n",
              "      <td>5.98</td>\n",
              "      <td>3.71</td>\n",
              "    </tr>\n",
              "    <tr>\n",
              "      <th>48617</th>\n",
              "      <td>0.70</td>\n",
              "      <td>Fair</td>\n",
              "      <td>G</td>\n",
              "      <td>SI2</td>\n",
              "      <td>61.5</td>\n",
              "      <td>66.0</td>\n",
              "      <td>1999</td>\n",
              "      <td>5.55</td>\n",
              "      <td>5.60</td>\n",
              "      <td>3.43</td>\n",
              "    </tr>\n",
              "    <tr>\n",
              "      <th>10947</th>\n",
              "      <td>0.87</td>\n",
              "      <td>Ideal</td>\n",
              "      <td>G</td>\n",
              "      <td>VS2</td>\n",
              "      <td>61.8</td>\n",
              "      <td>56.0</td>\n",
              "      <td>4899</td>\n",
              "      <td>6.11</td>\n",
              "      <td>6.13</td>\n",
              "      <td>3.78</td>\n",
              "    </tr>\n",
              "    <tr>\n",
              "      <th>...</th>\n",
              "      <td>...</td>\n",
              "      <td>...</td>\n",
              "      <td>...</td>\n",
              "      <td>...</td>\n",
              "      <td>...</td>\n",
              "      <td>...</td>\n",
              "      <td>...</td>\n",
              "      <td>...</td>\n",
              "      <td>...</td>\n",
              "      <td>...</td>\n",
              "    </tr>\n",
              "    <tr>\n",
              "      <th>47236</th>\n",
              "      <td>0.71</td>\n",
              "      <td>Very Good</td>\n",
              "      <td>J</td>\n",
              "      <td>SI1</td>\n",
              "      <td>62.8</td>\n",
              "      <td>57.0</td>\n",
              "      <td>1841</td>\n",
              "      <td>5.64</td>\n",
              "      <td>5.67</td>\n",
              "      <td>3.55</td>\n",
              "    </tr>\n",
              "    <tr>\n",
              "      <th>53015</th>\n",
              "      <td>0.52</td>\n",
              "      <td>Ideal</td>\n",
              "      <td>F</td>\n",
              "      <td>IF</td>\n",
              "      <td>60.6</td>\n",
              "      <td>57.0</td>\n",
              "      <td>2598</td>\n",
              "      <td>5.22</td>\n",
              "      <td>5.21</td>\n",
              "      <td>3.16</td>\n",
              "    </tr>\n",
              "    <tr>\n",
              "      <th>34384</th>\n",
              "      <td>0.41</td>\n",
              "      <td>Ideal</td>\n",
              "      <td>F</td>\n",
              "      <td>VS2</td>\n",
              "      <td>62.7</td>\n",
              "      <td>56.0</td>\n",
              "      <td>863</td>\n",
              "      <td>4.72</td>\n",
              "      <td>4.78</td>\n",
              "      <td>2.98</td>\n",
              "    </tr>\n",
              "    <tr>\n",
              "      <th>39853</th>\n",
              "      <td>0.57</td>\n",
              "      <td>Good</td>\n",
              "      <td>J</td>\n",
              "      <td>VS2</td>\n",
              "      <td>63.3</td>\n",
              "      <td>56.0</td>\n",
              "      <td>1100</td>\n",
              "      <td>5.24</td>\n",
              "      <td>5.28</td>\n",
              "      <td>3.33</td>\n",
              "    </tr>\n",
              "    <tr>\n",
              "      <th>32918</th>\n",
              "      <td>0.42</td>\n",
              "      <td>Ideal</td>\n",
              "      <td>D</td>\n",
              "      <td>SI1</td>\n",
              "      <td>61.5</td>\n",
              "      <td>56.0</td>\n",
              "      <td>810</td>\n",
              "      <td>4.81</td>\n",
              "      <td>4.85</td>\n",
              "      <td>2.97</td>\n",
              "    </tr>\n",
              "  </tbody>\n",
              "</table>\n",
              "<p>100 rows × 10 columns</p>\n",
              "</div>"
            ],
            "text/plain": [
              "       carat        cut color clarity  depth  table  price     x     y     z\n",
              "43601   0.31  Very Good     E     SI1   61.2   58.0    507  4.34  4.38  2.67\n",
              "52706   0.74       Fair     H     VS2   66.1   61.0   2553  5.60  5.57  3.69\n",
              "1986    0.81  Very Good     G     SI1   62.3   59.0   3095  5.93  5.98  3.71\n",
              "48617   0.70       Fair     G     SI2   61.5   66.0   1999  5.55  5.60  3.43\n",
              "10947   0.87      Ideal     G     VS2   61.8   56.0   4899  6.11  6.13  3.78\n",
              "...      ...        ...   ...     ...    ...    ...    ...   ...   ...   ...\n",
              "47236   0.71  Very Good     J     SI1   62.8   57.0   1841  5.64  5.67  3.55\n",
              "53015   0.52      Ideal     F      IF   60.6   57.0   2598  5.22  5.21  3.16\n",
              "34384   0.41      Ideal     F     VS2   62.7   56.0    863  4.72  4.78  2.98\n",
              "39853   0.57       Good     J     VS2   63.3   56.0   1100  5.24  5.28  3.33\n",
              "32918   0.42      Ideal     D     SI1   61.5   56.0    810  4.81  4.85  2.97\n",
              "\n",
              "[100 rows x 10 columns]"
            ]
          },
          "metadata": {
            "tags": []
          },
          "execution_count": 70
        }
      ]
    },
    {
      "cell_type": "markdown",
      "metadata": {
        "id": "1VZ7PH6nmyXZ",
        "colab_type": "text"
      },
      "source": [
        "Then, train a Linear Regression model with the `carat` and `cut` features. Calculate the mean absolute error on the training data and on the test data."
      ]
    },
    {
      "cell_type": "code",
      "metadata": {
        "id": "XCTsEqZtmyXZ",
        "colab_type": "code",
        "colab": {
          "base_uri": "https://localhost:8080/",
          "height": 50
        },
        "outputId": "7b330f6a-3f8e-4295-bb4a-53c341934a81"
      },
      "source": [
        "\n",
        "cut_ranks = {'Fair': 1, 'Good': 2, 'Very Good': 3, 'Premium': 4, 'Ideal': 5}\n",
        "train.cut = train.cut.map(cut_ranks)\n",
        "test.cut = test.cut.map(cut_ranks)\n",
        "\n",
        "features = ['carat', 'cut']\n",
        "target = 'price'\n",
        "\n",
        "model = LinearRegression()\n",
        "model.fit(train[features], train[target])\n",
        "\n",
        "y_true = train[target]\n",
        "y_pred = model.predict(train[features])\n",
        "train_error = mean_absolute_error(y_true, y_pred)\n",
        "\n",
        "\n",
        "y_true = test[target]\n",
        "y_pred = model.predict(test[features])\n",
        "test_error = mean_absolute_error(y_true, y_pred)\n",
        "\n",
        "print('Train Error: $', round(train_error))\n",
        "\n",
        "print('Test Error: $', round(test_error))"
      ],
      "execution_count": 78,
      "outputs": [
        {
          "output_type": "stream",
          "text": [
            "Train Error: $ 309.0\n",
            "Test Error: $ 310.0\n"
          ],
          "name": "stdout"
        }
      ]
    },
    {
      "cell_type": "markdown",
      "metadata": {
        "id": "4jLEcukVmyXb",
        "colab_type": "text"
      },
      "source": [
        "Use this model to predict the price of a half carat diamond with \"very good\" cut"
      ]
    },
    {
      "cell_type": "code",
      "metadata": {
        "id": "m1pDzeLZmyXb",
        "colab_type": "code",
        "colab": {
          "base_uri": "https://localhost:8080/",
          "height": 33
        },
        "outputId": "a84aaf6f-446d-43d2-d342-cbdd7f324c9f"
      },
      "source": [
        "model.predict([[0.5, 3]])"
      ],
      "execution_count": 72,
      "outputs": [
        {
          "output_type": "execute_result",
          "data": {
            "text/plain": [
              "array([1489.45526366])"
            ]
          },
          "metadata": {
            "tags": []
          },
          "execution_count": 72
        }
      ]
    },
    {
      "cell_type": "markdown",
      "metadata": {
        "id": "eB-7wzRjmyXe",
        "colab_type": "text"
      },
      "source": [
        "### 3. More data, more features, any model"
      ]
    },
    {
      "cell_type": "markdown",
      "metadata": {
        "id": "OCauk9z2myXf",
        "colab_type": "text"
      },
      "source": [
        "You choose what features and model type to use! Try to get a better mean absolute error on the test set than your model from the last question."
      ]
    },
    {
      "cell_type": "markdown",
      "metadata": {
        "id": "nWVpkz8dmyXf",
        "colab_type": "text"
      },
      "source": [
        "Refer to [this documentation](https://ggplot2.tidyverse.org/reference/diamonds.html) for more explanation of the features.\n",
        "\n",
        "Besides `cut`, there are two more ordinal features, which you'd need to encode as numbers if you want to use in your model:"
      ]
    },
    {
      "cell_type": "code",
      "metadata": {
        "id": "54K95PyEmyXf",
        "colab_type": "code",
        "outputId": "b8b91db6-95d3-4040-c16c-bfe761342a3e",
        "colab": {
          "base_uri": "https://localhost:8080/",
          "height": 162
        }
      },
      "source": [
        "train.describe(include=['object'])"
      ],
      "execution_count": 73,
      "outputs": [
        {
          "output_type": "execute_result",
          "data": {
            "text/html": [
              "<div>\n",
              "<style scoped>\n",
              "    .dataframe tbody tr th:only-of-type {\n",
              "        vertical-align: middle;\n",
              "    }\n",
              "\n",
              "    .dataframe tbody tr th {\n",
              "        vertical-align: top;\n",
              "    }\n",
              "\n",
              "    .dataframe thead th {\n",
              "        text-align: right;\n",
              "    }\n",
              "</style>\n",
              "<table border=\"1\" class=\"dataframe\">\n",
              "  <thead>\n",
              "    <tr style=\"text-align: right;\">\n",
              "      <th></th>\n",
              "      <th>color</th>\n",
              "      <th>clarity</th>\n",
              "    </tr>\n",
              "  </thead>\n",
              "  <tbody>\n",
              "    <tr>\n",
              "      <th>count</th>\n",
              "      <td>29409</td>\n",
              "      <td>29409</td>\n",
              "    </tr>\n",
              "    <tr>\n",
              "      <th>unique</th>\n",
              "      <td>7</td>\n",
              "      <td>8</td>\n",
              "    </tr>\n",
              "    <tr>\n",
              "      <th>top</th>\n",
              "      <td>E</td>\n",
              "      <td>SI1</td>\n",
              "    </tr>\n",
              "    <tr>\n",
              "      <th>freq</th>\n",
              "      <td>6090</td>\n",
              "      <td>6948</td>\n",
              "    </tr>\n",
              "  </tbody>\n",
              "</table>\n",
              "</div>"
            ],
            "text/plain": [
              "        color clarity\n",
              "count   29409   29409\n",
              "unique      7       8\n",
              "top         E     SI1\n",
              "freq     6090    6948"
            ]
          },
          "metadata": {
            "tags": []
          },
          "execution_count": 73
        }
      ]
    },
    {
      "cell_type": "code",
      "metadata": {
        "id": "ZUiQCTdQmyXi",
        "colab_type": "code",
        "outputId": "544933ea-e2a1-481a-da6c-4a8ff154c913",
        "colab": {
          "base_uri": "https://localhost:8080/",
          "height": 33
        }
      },
      "source": [
        "clarity_rank = {\"IF\":0,\"VVS1\":1, \"VVS2\":2,\"VS1\":3, \"VS2\":4,\"SI1\":5, \"SI2\":6, \"I1\":7}\n",
        "train.clarity = train.clarity.map(clarity_rank)  \n",
        "\n",
        "color_rank = {\"J\":7, \"I\":6, \"H\":5, \"G\":4, \"F\":3, \"E\":2, \"D\":1 }\n",
        "train.color = train.color.map(color_rank)\n",
        "\n",
        "features = ['color','clarity']\n",
        "target = ['price']\n",
        "model = LinearRegression()\n",
        "model.fit(train[features], train[target])\n",
        "#mean_absolute_error()\n",
        "model.coef_,model.intercept_"
      ],
      "execution_count": 79,
      "outputs": [
        {
          "output_type": "execute_result",
          "data": {
            "text/plain": [
              "(array([[ 77.75742165, 259.22094468]]), array([648.46824772]))"
            ]
          },
          "metadata": {
            "tags": []
          },
          "execution_count": 79
        }
      ]
    },
    {
      "cell_type": "code",
      "metadata": {
        "id": "_wAoZ1plQYVc",
        "colab_type": "code",
        "colab": {}
      },
      "source": [
        ""
      ],
      "execution_count": 0,
      "outputs": []
    }
  ]
}