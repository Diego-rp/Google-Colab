{
  "nbformat": 4,
  "nbformat_minor": 0,
  "metadata": {
    "colab": {
      "name": "DIEGO_RODRIGUEZ_1_2",
      "provenance": [],
      "collapsed_sections": [],
      "include_colab_link": true
    },
    "kernelspec": {
      "display_name": "Python 3",
      "language": "python",
      "name": "python3"
    }
  },
  "cells": [
    {
      "cell_type": "markdown",
      "metadata": {
        "id": "view-in-github",
        "colab_type": "text"
      },
      "source": [
        "<a href=\"https://colab.research.google.com/github/Diego-rp/Google-Colab/blob/master/Applied%20ML%202.ipynb\" target=\"_parent\"><img src=\"https://colab.research.google.com/assets/colab-badge.svg\" alt=\"Open In Colab\"/></a>"
      ]
    },
    {
      "cell_type": "markdown",
      "metadata": {
        "id": "lOH73mi0Wc3q",
        "colab_type": "text"
      },
      "source": [
        "# Lambda School, Intro to Data Science, Day 8 — Classification!"
      ]
    },
    {
      "cell_type": "markdown",
      "metadata": {
        "id": "EQ6Yq0xkWc3r",
        "colab_type": "text"
      },
      "source": [
        "## Assignment\n",
        "\n",
        "Run this cell to load the Titanic data:"
      ]
    },
    {
      "cell_type": "code",
      "metadata": {
        "id": "MsZf-QBJWc3s",
        "colab_type": "code",
        "colab": {}
      },
      "source": [
        "import pandas as pd\n",
        "import seaborn as sns\n",
        "from sklearn.model_selection import train_test_split\n",
        "train, test = train_test_split(sns.load_dataset('titanic').drop(columns=['alive']), random_state=0)\n",
        "target = 'survived'\n",
        "train.rename(columns = {'class':'class_number'}, inplace = True) \n",
        "test.rename(columns = {'class':'class_number'}, inplace = True) \n"
      ],
      "execution_count": 0,
      "outputs": []
    },
    {
      "cell_type": "code",
      "metadata": {
        "id": "q-ehlwkMGdlN",
        "colab_type": "code",
        "outputId": "b6cbf905-43cb-4d71-a6ad-d58f4e7a9d3a",
        "colab": {
          "base_uri": "https://localhost:8080/",
          "height": 326
        }
      },
      "source": [
        "train.info()"
      ],
      "execution_count": 0,
      "outputs": [
        {
          "output_type": "stream",
          "text": [
            "<class 'pandas.core.frame.DataFrame'>\n",
            "Int64Index: 668 entries, 105 to 684\n",
            "Data columns (total 14 columns):\n",
            "survived        668 non-null int64\n",
            "pclass          668 non-null int64\n",
            "sex             668 non-null object\n",
            "age             535 non-null float64\n",
            "sibsp           668 non-null int64\n",
            "parch           668 non-null int64\n",
            "fare            668 non-null float64\n",
            "embarked        666 non-null object\n",
            "class_number    668 non-null category\n",
            "who             668 non-null object\n",
            "adult_male      668 non-null bool\n",
            "deck            156 non-null category\n",
            "embark_town     666 non-null object\n",
            "alone           668 non-null bool\n",
            "dtypes: bool(2), category(2), float64(2), int64(4), object(4)\n",
            "memory usage: 60.5+ KB\n"
          ],
          "name": "stdout"
        }
      ]
    },
    {
      "cell_type": "markdown",
      "metadata": {
        "id": "BWnyTrASWc3v",
        "colab_type": "text"
      },
      "source": [
        "Then, train a [Logistic Regression](http://scikit-learn.org/stable/modules/generated/sklearn.linear_model.LogisticRegression.html#sklearn.linear_model.LogisticRegression.predict_proba), [Decision Tree](http://scikit-learn.org/stable/modules/generated/sklearn.tree.DecisionTreeClassifier.html), or [Random Forest](http://scikit-learn.org/stable/modules/generated/sklearn.ensemble.RandomForestClassifier.html) model. Use any features and parameters you want. \n",
        "\n",
        "Try to get better than 78.0% accuracy on the test set! (This is not required, but encouraged.)\n",
        "\n",
        "Do refer to the lecture notebook — but try not to copy-paste.\n",
        "\n",
        "> You must type each of these exercises in, manually. If you copy and paste, you might as well not even do them. The point of these exercises is to train your hands, your brain, and your mind in how to read, write, and see code. If you copy-paste, you are cheating yourself out of the effectiveness of the lessons. —*[Learn Python the Hard Way](https://learnpythonthehardway.org/book/intro.html)*\n",
        "\n",
        "After this, you may want to try [Kaggle's Titanic challenge](https://www.kaggle.com/c/titanic)!"
      ]
    },
    {
      "cell_type": "code",
      "metadata": {
        "id": "1LdRtPZsAMzW",
        "colab_type": "code",
        "colab": {}
      },
      "source": [
        "train['female'] = train.sex == 'female'\n",
        "test['female'] = test.sex == 'female'"
      ],
      "execution_count": 0,
      "outputs": []
    },
    {
      "cell_type": "code",
      "metadata": {
        "id": "GV5kDrm8EFFb",
        "colab_type": "code",
        "colab": {}
      },
      "source": [
        "train.age.fillna(train.age.mean(), inplace=True)\n",
        "test.age.fillna(test.age.mean(), inplace=True)\n"
      ],
      "execution_count": 0,
      "outputs": []
    },
    {
      "cell_type": "code",
      "metadata": {
        "id": "ooLVsDlgIRu7",
        "colab_type": "code",
        "colab": {}
      },
      "source": [
        "class_ranks = {'First': 1, 'Second': 2, 'Third': 3}\n",
        "train.class_number = train.class_number.map(class_ranks)\n",
        "test.class_number = test.class_number.map(class_ranks)"
      ],
      "execution_count": 0,
      "outputs": []
    },
    {
      "cell_type": "code",
      "metadata": {
        "id": "y6q32o-WKEfI",
        "colab_type": "code",
        "outputId": "f0376247-aa5e-4cba-d843-4c8c2672a4bc",
        "colab": {
          "base_uri": "https://localhost:8080/",
          "height": 191
        }
      },
      "source": [
        "train.head()"
      ],
      "execution_count": 0,
      "outputs": [
        {
          "output_type": "execute_result",
          "data": {
            "text/html": [
              "<div>\n",
              "<style scoped>\n",
              "    .dataframe tbody tr th:only-of-type {\n",
              "        vertical-align: middle;\n",
              "    }\n",
              "\n",
              "    .dataframe tbody tr th {\n",
              "        vertical-align: top;\n",
              "    }\n",
              "\n",
              "    .dataframe thead th {\n",
              "        text-align: right;\n",
              "    }\n",
              "</style>\n",
              "<table border=\"1\" class=\"dataframe\">\n",
              "  <thead>\n",
              "    <tr style=\"text-align: right;\">\n",
              "      <th></th>\n",
              "      <th>survived</th>\n",
              "      <th>pclass</th>\n",
              "      <th>sex</th>\n",
              "      <th>age</th>\n",
              "      <th>sibsp</th>\n",
              "      <th>parch</th>\n",
              "      <th>fare</th>\n",
              "      <th>embarked</th>\n",
              "      <th>class_number</th>\n",
              "      <th>who</th>\n",
              "      <th>adult_male</th>\n",
              "      <th>deck</th>\n",
              "      <th>embark_town</th>\n",
              "      <th>alone</th>\n",
              "      <th>female</th>\n",
              "    </tr>\n",
              "  </thead>\n",
              "  <tbody>\n",
              "    <tr>\n",
              "      <th>105</th>\n",
              "      <td>0</td>\n",
              "      <td>3</td>\n",
              "      <td>male</td>\n",
              "      <td>28.0</td>\n",
              "      <td>0</td>\n",
              "      <td>0</td>\n",
              "      <td>7.8958</td>\n",
              "      <td>S</td>\n",
              "      <td>3</td>\n",
              "      <td>man</td>\n",
              "      <td>True</td>\n",
              "      <td>NaN</td>\n",
              "      <td>Southampton</td>\n",
              "      <td>True</td>\n",
              "      <td>False</td>\n",
              "    </tr>\n",
              "    <tr>\n",
              "      <th>68</th>\n",
              "      <td>1</td>\n",
              "      <td>3</td>\n",
              "      <td>female</td>\n",
              "      <td>17.0</td>\n",
              "      <td>4</td>\n",
              "      <td>2</td>\n",
              "      <td>7.9250</td>\n",
              "      <td>S</td>\n",
              "      <td>3</td>\n",
              "      <td>woman</td>\n",
              "      <td>False</td>\n",
              "      <td>NaN</td>\n",
              "      <td>Southampton</td>\n",
              "      <td>False</td>\n",
              "      <td>True</td>\n",
              "    </tr>\n",
              "    <tr>\n",
              "      <th>253</th>\n",
              "      <td>0</td>\n",
              "      <td>3</td>\n",
              "      <td>male</td>\n",
              "      <td>30.0</td>\n",
              "      <td>1</td>\n",
              "      <td>0</td>\n",
              "      <td>16.1000</td>\n",
              "      <td>S</td>\n",
              "      <td>3</td>\n",
              "      <td>man</td>\n",
              "      <td>True</td>\n",
              "      <td>NaN</td>\n",
              "      <td>Southampton</td>\n",
              "      <td>False</td>\n",
              "      <td>False</td>\n",
              "    </tr>\n",
              "    <tr>\n",
              "      <th>320</th>\n",
              "      <td>0</td>\n",
              "      <td>3</td>\n",
              "      <td>male</td>\n",
              "      <td>22.0</td>\n",
              "      <td>0</td>\n",
              "      <td>0</td>\n",
              "      <td>7.2500</td>\n",
              "      <td>S</td>\n",
              "      <td>3</td>\n",
              "      <td>man</td>\n",
              "      <td>True</td>\n",
              "      <td>NaN</td>\n",
              "      <td>Southampton</td>\n",
              "      <td>True</td>\n",
              "      <td>False</td>\n",
              "    </tr>\n",
              "    <tr>\n",
              "      <th>706</th>\n",
              "      <td>1</td>\n",
              "      <td>2</td>\n",
              "      <td>female</td>\n",
              "      <td>45.0</td>\n",
              "      <td>0</td>\n",
              "      <td>0</td>\n",
              "      <td>13.5000</td>\n",
              "      <td>S</td>\n",
              "      <td>2</td>\n",
              "      <td>woman</td>\n",
              "      <td>False</td>\n",
              "      <td>NaN</td>\n",
              "      <td>Southampton</td>\n",
              "      <td>True</td>\n",
              "      <td>True</td>\n",
              "    </tr>\n",
              "  </tbody>\n",
              "</table>\n",
              "</div>"
            ],
            "text/plain": [
              "     survived  pclass     sex   age  ...  deck  embark_town  alone female\n",
              "105         0       3    male  28.0  ...   NaN  Southampton   True  False\n",
              "68          1       3  female  17.0  ...   NaN  Southampton  False   True\n",
              "253         0       3    male  30.0  ...   NaN  Southampton  False  False\n",
              "320         0       3    male  22.0  ...   NaN  Southampton   True  False\n",
              "706         1       2  female  45.0  ...   NaN  Southampton   True   True\n",
              "\n",
              "[5 rows x 15 columns]"
            ]
          },
          "metadata": {
            "tags": []
          },
          "execution_count": 63
        }
      ]
    },
    {
      "cell_type": "code",
      "metadata": {
        "id": "FGT0WHTfWc3v",
        "colab_type": "code",
        "outputId": "53a1e324-af93-428e-abc5-1512724afe11",
        "colab": {
          "base_uri": "https://localhost:8080/",
          "height": 50
        }
      },
      "source": [
        "from sklearn.metrics import accuracy_score\n",
        "import matplotlib.pyplot as plt\n",
        "\n",
        "from sklearn.linear_model import LogisticRegression\n",
        "\n",
        "\n",
        "###\n",
        "\n",
        "features = ['female', 'age', 'class_number']\n",
        "target = 'survived'\n",
        "\n",
        "model = LogisticRegression()\n",
        "model.fit(train[features], train[target])\n",
        "\n",
        "# Train accuracy\n",
        "y_true = train[target]\n",
        "y_pred = model.predict(train[features])\n",
        "print('Train accuracy:', accuracy_score(y_true, y_pred))\n",
        "\n",
        "# Test accuracy\n",
        "y_true = test[target]\n",
        "y_pred = model.predict(test[features])\n",
        "print('Test accuracy:', accuracy_score(y_true, y_pred))\n"
      ],
      "execution_count": 0,
      "outputs": [
        {
          "output_type": "stream",
          "text": [
            "Train accuracy: 0.8008982035928144\n",
            "Test accuracy: 0.7937219730941704\n"
          ],
          "name": "stdout"
        }
      ]
    },
    {
      "cell_type": "code",
      "metadata": {
        "id": "FscNartV_RGQ",
        "colab_type": "code",
        "outputId": "fb298d83-0db9-43e6-c35b-89082cd38eeb",
        "colab": {
          "base_uri": "https://localhost:8080/",
          "height": 50
        }
      },
      "source": [
        "from sklearn.tree import DecisionTreeClassifier\n",
        "model = DecisionTreeClassifier(max_depth=2)\n",
        "model.fit(train[features], train[target])\n",
        "\n",
        "# Train accuracy\n",
        "y_true = train[target]\n",
        "y_pred = model.predict(train[features])\n",
        "print('Train accuracy:', accuracy_score(y_true, y_pred))\n",
        "\n",
        "# Test accuracy\n",
        "y_true = test[target]\n",
        "y_pred = model.predict(test[features])\n",
        "print('Test accuracy:', accuracy_score(y_true, y_pred))"
      ],
      "execution_count": 0,
      "outputs": [
        {
          "output_type": "stream",
          "text": [
            "Train accuracy: 0.7949101796407185\n",
            "Test accuracy: 0.7757847533632287\n"
          ],
          "name": "stdout"
        }
      ]
    }
  ]
}