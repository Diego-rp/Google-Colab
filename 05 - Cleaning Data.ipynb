{
  "nbformat": 4,
  "nbformat_minor": 0,
  "metadata": {
    "colab": {
      "name": "DIEGO_RODRIGUEZ_1_2",
      "provenance": [],
      "collapsed_sections": [],
      "include_colab_link": true
    },
    "kernelspec": {
      "name": "python3",
      "display_name": "Python 3"
    }
  },
  "cells": [
    {
      "cell_type": "markdown",
      "metadata": {
        "id": "view-in-github",
        "colab_type": "text"
      },
      "source": [
        "<a href=\"https://colab.research.google.com/github/Diego-rp/Google-Colab/blob/master/05%20-%20Cleaning%20Data.ipynb\" target=\"_parent\"><img src=\"https://colab.research.google.com/assets/colab-badge.svg\" alt=\"Open In Colab\"/></a>"
      ]
    },
    {
      "cell_type": "markdown",
      "metadata": {
        "id": "ZvNsvUNNlZbi",
        "colab_type": "text"
      },
      "source": [
        "---\n",
        "# Lambda School Data Science - Intro to Pandas\n",
        "---\n",
        "# 05 - Cleaning Data\n",
        "---\n",
        "\n"
      ]
    },
    {
      "cell_type": "markdown",
      "metadata": {
        "id": "y8HUQb0OOztX",
        "colab_type": "text"
      },
      "source": [
        "##STOP! BEFORE GOING ANY FURTHER...  \n",
        "\n",
        "\n",
        "1. Click \"File\" at the top.\n",
        "2. Then, \"Save a Copy in Drive.\"\n",
        "3. Change the file name to \"FIRSTNAME_LASTNAME_1_2\"  \n",
        "\n",
        "Now you have a copy of this notebook in your Drive account. This is the copy you'll edit and submit. Be sure to do this for ***every*** assignment!\n",
        "\n"
      ]
    },
    {
      "cell_type": "markdown",
      "metadata": {
        "id": "xMq6Of2Gt24o",
        "colab_type": "text"
      },
      "source": [
        "### Import pandas"
      ]
    },
    {
      "cell_type": "code",
      "metadata": {
        "id": "h3r0IvHVuGJb",
        "colab_type": "code",
        "colab": {}
      },
      "source": [
        "import pandas as pd"
      ],
      "execution_count": 0,
      "outputs": []
    },
    {
      "cell_type": "markdown",
      "metadata": {
        "id": "DvYie7qokbDH",
        "colab_type": "text"
      },
      "source": [
        "### Import the data in the CSV file\n",
        "You can find the data [here](https://raw.githubusercontent.com/axrd/datasets/master/gdpmessy2.csv). Should have a shape of (222,3). Use this [resource](https://www.iban.com/country-codes) to clean values correctly."
      ]
    },
    {
      "cell_type": "code",
      "metadata": {
        "id": "UNJo_50VktRs",
        "colab_type": "code",
        "colab": {}
      },
      "source": [
        "df = pd.read_csv('https://raw.githubusercontent.com/axrd/datasets/master/gdpmessy2.csv')"
      ],
      "execution_count": 0,
      "outputs": []
    },
    {
      "cell_type": "markdown",
      "metadata": {
        "id": "CYy4Zp5pk7tS",
        "colab_type": "text"
      },
      "source": [
        "### Quickly inspect the head"
      ]
    },
    {
      "cell_type": "code",
      "metadata": {
        "id": "lIxLoTfGl910",
        "colab_type": "code",
        "colab": {
          "base_uri": "https://localhost:8080/",
          "height": 191
        },
        "outputId": "4f7a2078-43a6-4314-bd8b-4f44be8b1fb5"
      },
      "source": [
        "df.head()"
      ],
      "execution_count": 20,
      "outputs": [
        {
          "output_type": "execute_result",
          "data": {
            "text/html": [
              "<div>\n",
              "<style scoped>\n",
              "    .dataframe tbody tr th:only-of-type {\n",
              "        vertical-align: middle;\n",
              "    }\n",
              "\n",
              "    .dataframe tbody tr th {\n",
              "        vertical-align: top;\n",
              "    }\n",
              "\n",
              "    .dataframe thead th {\n",
              "        text-align: right;\n",
              "    }\n",
              "</style>\n",
              "<table border=\"1\" class=\"dataframe\">\n",
              "  <thead>\n",
              "    <tr style=\"text-align: right;\">\n",
              "      <th></th>\n",
              "      <th>Unnamed: 0</th>\n",
              "      <th>countrys</th>\n",
              "      <th>GDP</th>\n",
              "      <th>code</th>\n",
              "    </tr>\n",
              "  </thead>\n",
              "  <tbody>\n",
              "    <tr>\n",
              "      <th>0</th>\n",
              "      <td>0</td>\n",
              "      <td>Afghanistan</td>\n",
              "      <td>21.71</td>\n",
              "      <td>AFG</td>\n",
              "    </tr>\n",
              "    <tr>\n",
              "      <th>1</th>\n",
              "      <td>1</td>\n",
              "      <td>Albania</td>\n",
              "      <td>13.40</td>\n",
              "      <td>ALB</td>\n",
              "    </tr>\n",
              "    <tr>\n",
              "      <th>2</th>\n",
              "      <td>2</td>\n",
              "      <td>Algeria</td>\n",
              "      <td>227.80</td>\n",
              "      <td>DZA</td>\n",
              "    </tr>\n",
              "    <tr>\n",
              "      <th>3</th>\n",
              "      <td>3</td>\n",
              "      <td>American Samoa</td>\n",
              "      <td>0.75</td>\n",
              "      <td>ASM</td>\n",
              "    </tr>\n",
              "    <tr>\n",
              "      <th>4</th>\n",
              "      <td>4</td>\n",
              "      <td>Andorra</td>\n",
              "      <td>4.80</td>\n",
              "      <td>AND</td>\n",
              "    </tr>\n",
              "  </tbody>\n",
              "</table>\n",
              "</div>"
            ],
            "text/plain": [
              "   Unnamed: 0        countrys     GDP code\n",
              "0           0     Afghanistan   21.71  AFG\n",
              "1           1         Albania   13.40  ALB\n",
              "2           2         Algeria  227.80  DZA\n",
              "3           3  American Samoa    0.75  ASM\n",
              "4           4         Andorra    4.80  AND"
            ]
          },
          "metadata": {
            "tags": []
          },
          "execution_count": 20
        }
      ]
    },
    {
      "cell_type": "markdown",
      "metadata": {
        "id": "125CV0jpQ5vT",
        "colab_type": "text"
      },
      "source": [
        "### Inspect the tail"
      ]
    },
    {
      "cell_type": "code",
      "metadata": {
        "id": "lMafok6zoGB-",
        "colab_type": "code",
        "colab": {
          "base_uri": "https://localhost:8080/",
          "height": 191
        },
        "outputId": "81a59b23-d11b-429a-9b0e-586ecbcb8368"
      },
      "source": [
        "df.tail()"
      ],
      "execution_count": 21,
      "outputs": [
        {
          "output_type": "execute_result",
          "data": {
            "text/html": [
              "<div>\n",
              "<style scoped>\n",
              "    .dataframe tbody tr th:only-of-type {\n",
              "        vertical-align: middle;\n",
              "    }\n",
              "\n",
              "    .dataframe tbody tr th {\n",
              "        vertical-align: top;\n",
              "    }\n",
              "\n",
              "    .dataframe thead th {\n",
              "        text-align: right;\n",
              "    }\n",
              "</style>\n",
              "<table border=\"1\" class=\"dataframe\">\n",
              "  <thead>\n",
              "    <tr style=\"text-align: right;\">\n",
              "      <th></th>\n",
              "      <th>Unnamed: 0</th>\n",
              "      <th>countrys</th>\n",
              "      <th>GDP</th>\n",
              "      <th>code</th>\n",
              "    </tr>\n",
              "  </thead>\n",
              "  <tbody>\n",
              "    <tr>\n",
              "      <th>217</th>\n",
              "      <td>217</td>\n",
              "      <td>U.S. Virgin Islands</td>\n",
              "      <td>5.08</td>\n",
              "      <td>VIR</td>\n",
              "    </tr>\n",
              "    <tr>\n",
              "      <th>218</th>\n",
              "      <td>218</td>\n",
              "      <td>West Bank</td>\n",
              "      <td>6.64</td>\n",
              "      <td>WBG</td>\n",
              "    </tr>\n",
              "    <tr>\n",
              "      <th>219</th>\n",
              "      <td>219</td>\n",
              "      <td>Yemen</td>\n",
              "      <td>45.45</td>\n",
              "      <td>YEM</td>\n",
              "    </tr>\n",
              "    <tr>\n",
              "      <th>220</th>\n",
              "      <td>220</td>\n",
              "      <td>Zambia</td>\n",
              "      <td>25.61</td>\n",
              "      <td>ZMB</td>\n",
              "    </tr>\n",
              "    <tr>\n",
              "      <th>221</th>\n",
              "      <td>221</td>\n",
              "      <td>Zimbabwe</td>\n",
              "      <td>13.74</td>\n",
              "      <td>ZMB</td>\n",
              "    </tr>\n",
              "  </tbody>\n",
              "</table>\n",
              "</div>"
            ],
            "text/plain": [
              "     Unnamed: 0             countrys    GDP code\n",
              "217         217  U.S. Virgin Islands   5.08  VIR\n",
              "218         218            West Bank   6.64  WBG\n",
              "219         219                Yemen  45.45  YEM\n",
              "220         220               Zambia  25.61  ZMB\n",
              "221         221             Zimbabwe  13.74  ZMB"
            ]
          },
          "metadata": {
            "tags": []
          },
          "execution_count": 21
        }
      ]
    },
    {
      "cell_type": "markdown",
      "metadata": {
        "id": "CfUYIGiuQ-o0",
        "colab_type": "text"
      },
      "source": [
        "### What is the shape of the DataFrame? Does it correspond to what we expected? "
      ]
    },
    {
      "cell_type": "code",
      "metadata": {
        "id": "hQGGcDNYQ-_b",
        "colab_type": "code",
        "colab": {
          "base_uri": "https://localhost:8080/",
          "height": 33
        },
        "outputId": "51e4da8c-51c2-49f4-a227-7220c251478d"
      },
      "source": [
        "df.shape"
      ],
      "execution_count": 22,
      "outputs": [
        {
          "output_type": "execute_result",
          "data": {
            "text/plain": [
              "(222, 4)"
            ]
          },
          "metadata": {
            "tags": []
          },
          "execution_count": 22
        }
      ]
    },
    {
      "cell_type": "markdown",
      "metadata": {
        "id": "OPzmCwizHi2C",
        "colab_type": "text"
      },
      "source": [
        "### Do you need to change the index?"
      ]
    },
    {
      "cell_type": "code",
      "metadata": {
        "id": "PnwCHiUoHjLl",
        "colab_type": "code",
        "colab": {}
      },
      "source": [
        "df.drop('Unnamed: 0', axis=1, inplace=True)"
      ],
      "execution_count": 0,
      "outputs": []
    },
    {
      "cell_type": "markdown",
      "metadata": {
        "id": "7ecnTkAIQ_MW",
        "colab_type": "text"
      },
      "source": [
        "### Missing values?\n",
        "Find all the missing values and correct them. "
      ]
    },
    {
      "cell_type": "code",
      "metadata": {
        "id": "_1U2esBGQ_XF",
        "colab_type": "code",
        "colab": {
          "base_uri": "https://localhost:8080/",
          "height": 82
        },
        "outputId": "c7feab1f-6b23-49a3-a765-590f4edb5f11"
      },
      "source": [
        "df.isnull().sum()"
      ],
      "execution_count": 24,
      "outputs": [
        {
          "output_type": "execute_result",
          "data": {
            "text/plain": [
              "countrys    4\n",
              "GDP         3\n",
              "code        5\n",
              "dtype: int64"
            ]
          },
          "metadata": {
            "tags": []
          },
          "execution_count": 24
        }
      ]
    },
    {
      "cell_type": "code",
      "metadata": {
        "id": "KsjvOTizFoam",
        "colab_type": "code",
        "colab": {
          "base_uri": "https://localhost:8080/",
          "height": 392
        },
        "outputId": "03c8b27c-cb69-4abf-fafa-72b4f55c4aba"
      },
      "source": [
        "df[df.isnull().any(axis=1)]"
      ],
      "execution_count": 25,
      "outputs": [
        {
          "output_type": "execute_result",
          "data": {
            "text/html": [
              "<div>\n",
              "<style scoped>\n",
              "    .dataframe tbody tr th:only-of-type {\n",
              "        vertical-align: middle;\n",
              "    }\n",
              "\n",
              "    .dataframe tbody tr th {\n",
              "        vertical-align: top;\n",
              "    }\n",
              "\n",
              "    .dataframe thead th {\n",
              "        text-align: right;\n",
              "    }\n",
              "</style>\n",
              "<table border=\"1\" class=\"dataframe\">\n",
              "  <thead>\n",
              "    <tr style=\"text-align: right;\">\n",
              "      <th></th>\n",
              "      <th>countrys</th>\n",
              "      <th>GDP</th>\n",
              "      <th>code</th>\n",
              "    </tr>\n",
              "  </thead>\n",
              "  <tbody>\n",
              "    <tr>\n",
              "      <th>6</th>\n",
              "      <td>NaN</td>\n",
              "      <td>0.18</td>\n",
              "      <td>AIA</td>\n",
              "    </tr>\n",
              "    <tr>\n",
              "      <th>14</th>\n",
              "      <td>Bahamas, The</td>\n",
              "      <td>8.65</td>\n",
              "      <td>NaN</td>\n",
              "    </tr>\n",
              "    <tr>\n",
              "      <th>16</th>\n",
              "      <td>Bangladesh</td>\n",
              "      <td>NaN</td>\n",
              "      <td>BGD</td>\n",
              "    </tr>\n",
              "    <tr>\n",
              "      <th>20</th>\n",
              "      <td>NaN</td>\n",
              "      <td>1.67</td>\n",
              "      <td>BLZ</td>\n",
              "    </tr>\n",
              "    <tr>\n",
              "      <th>55</th>\n",
              "      <td>Denmark</td>\n",
              "      <td>347.20</td>\n",
              "      <td>NaN</td>\n",
              "    </tr>\n",
              "    <tr>\n",
              "      <th>70</th>\n",
              "      <td>France</td>\n",
              "      <td>NaN</td>\n",
              "      <td>FRA</td>\n",
              "    </tr>\n",
              "    <tr>\n",
              "      <th>90</th>\n",
              "      <td>Hungary</td>\n",
              "      <td>129.70</td>\n",
              "      <td>NaN</td>\n",
              "    </tr>\n",
              "    <tr>\n",
              "      <th>96</th>\n",
              "      <td>Ireland</td>\n",
              "      <td>NaN</td>\n",
              "      <td>IRL</td>\n",
              "    </tr>\n",
              "    <tr>\n",
              "      <th>100</th>\n",
              "      <td>Jamaica</td>\n",
              "      <td>13.92</td>\n",
              "      <td>NaN</td>\n",
              "    </tr>\n",
              "    <tr>\n",
              "      <th>106</th>\n",
              "      <td>NaN</td>\n",
              "      <td>0.16</td>\n",
              "      <td>KIR</td>\n",
              "    </tr>\n",
              "    <tr>\n",
              "      <th>200</th>\n",
              "      <td>Togo</td>\n",
              "      <td>4.84</td>\n",
              "      <td>NaN</td>\n",
              "    </tr>\n",
              "    <tr>\n",
              "      <th>206</th>\n",
              "      <td>NaN</td>\n",
              "      <td>0.04</td>\n",
              "      <td>TUV</td>\n",
              "    </tr>\n",
              "  </tbody>\n",
              "</table>\n",
              "</div>"
            ],
            "text/plain": [
              "         countrys     GDP code\n",
              "6             NaN    0.18  AIA\n",
              "14   Bahamas, The    8.65  NaN\n",
              "16     Bangladesh     NaN  BGD\n",
              "20            NaN    1.67  BLZ\n",
              "55        Denmark  347.20  NaN\n",
              "70         France     NaN  FRA\n",
              "90        Hungary  129.70  NaN\n",
              "96        Ireland     NaN  IRL\n",
              "100       Jamaica   13.92  NaN\n",
              "106           NaN    0.16  KIR\n",
              "200          Togo    4.84  NaN\n",
              "206           NaN    0.04  TUV"
            ]
          },
          "metadata": {
            "tags": []
          },
          "execution_count": 25
        }
      ]
    },
    {
      "cell_type": "code",
      "metadata": {
        "id": "25xPIbf4Foja",
        "colab_type": "code",
        "colab": {}
      },
      "source": [
        ""
      ],
      "execution_count": 0,
      "outputs": []
    },
    {
      "cell_type": "markdown",
      "metadata": {
        "id": "p52saiQGbeMq",
        "colab_type": "text"
      },
      "source": [
        "### Find duplicate values  \n",
        "Clean where necessary:  \n",
        "*   France has a GDP of 2902.0 billion.\n",
        "*   Ireland has a GDP of 245.80 billion.\n",
        "*   Bangladesh has a GDP of 186.60 billion."
      ]
    },
    {
      "cell_type": "code",
      "metadata": {
        "id": "5cWuMltDbkCX",
        "colab_type": "code",
        "colab": {}
      },
      "source": [
        "df.at[70, 'GDP'] = 2902\n",
        "df.at[96, 'GDP'] = 245.8\n",
        "df.at[16, 'GDP'] = 186.6"
      ],
      "execution_count": 0,
      "outputs": []
    },
    {
      "cell_type": "code",
      "metadata": {
        "id": "DU7UG2yYFpD9",
        "colab_type": "code",
        "colab": {
          "base_uri": "https://localhost:8080/",
          "height": 115
        },
        "outputId": "43eab4d5-91da-4eb3-bbe1-7868e1393f3a"
      },
      "source": [
        "df[\"countrys\"].value_counts(sort=True).head()"
      ],
      "execution_count": 27,
      "outputs": [
        {
          "output_type": "execute_result",
          "data": {
            "text/plain": [
              "Maldives         1\n",
              "Niue             1\n",
              "El Salvador      1\n",
              "Sudan            1\n",
              "Cote d'Ivoire    1\n",
              "Name: countrys, dtype: int64"
            ]
          },
          "metadata": {
            "tags": []
          },
          "execution_count": 27
        }
      ]
    },
    {
      "cell_type": "code",
      "metadata": {
        "id": "eb_fG4JzFpJu",
        "colab_type": "code",
        "colab": {
          "base_uri": "https://localhost:8080/",
          "height": 115
        },
        "outputId": "1a463bbe-b8f9-4346-e022-4265ace1867d"
      },
      "source": [
        "df[\"code\"].value_counts(sort=True).head()"
      ],
      "execution_count": 28,
      "outputs": [
        {
          "output_type": "execute_result",
          "data": {
            "text/plain": [
              "ARG    2\n",
              "ZMB    2\n",
              "CRI    1\n",
              "AUT    1\n",
              "MCO    1\n",
              "Name: code, dtype: int64"
            ]
          },
          "metadata": {
            "tags": []
          },
          "execution_count": 28
        }
      ]
    },
    {
      "cell_type": "code",
      "metadata": {
        "id": "AmlHeHevvaxU",
        "colab_type": "code",
        "colab": {
          "base_uri": "https://localhost:8080/",
          "height": 76
        },
        "outputId": "cf2f9858-79ab-40f9-c0f3-fbe200d354c5"
      },
      "source": [
        "df[df['code']=='ARG']"
      ],
      "execution_count": 34,
      "outputs": [
        {
          "output_type": "execute_result",
          "data": {
            "text/html": [
              "<div>\n",
              "<style scoped>\n",
              "    .dataframe tbody tr th:only-of-type {\n",
              "        vertical-align: middle;\n",
              "    }\n",
              "\n",
              "    .dataframe tbody tr th {\n",
              "        vertical-align: top;\n",
              "    }\n",
              "\n",
              "    .dataframe thead th {\n",
              "        text-align: right;\n",
              "    }\n",
              "</style>\n",
              "<table border=\"1\" class=\"dataframe\">\n",
              "  <thead>\n",
              "    <tr style=\"text-align: right;\">\n",
              "      <th></th>\n",
              "      <th>countrys</th>\n",
              "      <th>GDP</th>\n",
              "      <th>code</th>\n",
              "    </tr>\n",
              "  </thead>\n",
              "  <tbody>\n",
              "    <tr>\n",
              "      <th>8</th>\n",
              "      <td>Argentina</td>\n",
              "      <td>536.2</td>\n",
              "      <td>ARG</td>\n",
              "    </tr>\n",
              "  </tbody>\n",
              "</table>\n",
              "</div>"
            ],
            "text/plain": [
              "    countrys    GDP code\n",
              "8  Argentina  536.2  ARG"
            ]
          },
          "metadata": {
            "tags": []
          },
          "execution_count": 34
        }
      ]
    },
    {
      "cell_type": "code",
      "metadata": {
        "id": "u__8LvmzwUHp",
        "colab_type": "code",
        "colab": {}
      },
      "source": [
        "df.at[209, 'code'] = 'ARE'"
      ],
      "execution_count": 0,
      "outputs": []
    },
    {
      "cell_type": "code",
      "metadata": {
        "id": "cMpcnryAwkPn",
        "colab_type": "code",
        "colab": {
          "base_uri": "https://localhost:8080/",
          "height": 76
        },
        "outputId": "d2394a43-0da4-4958-8691-968879d80acc"
      },
      "source": [
        "df[df['code']=='ZMB']"
      ],
      "execution_count": 37,
      "outputs": [
        {
          "output_type": "execute_result",
          "data": {
            "text/html": [
              "<div>\n",
              "<style scoped>\n",
              "    .dataframe tbody tr th:only-of-type {\n",
              "        vertical-align: middle;\n",
              "    }\n",
              "\n",
              "    .dataframe tbody tr th {\n",
              "        vertical-align: top;\n",
              "    }\n",
              "\n",
              "    .dataframe thead th {\n",
              "        text-align: right;\n",
              "    }\n",
              "</style>\n",
              "<table border=\"1\" class=\"dataframe\">\n",
              "  <thead>\n",
              "    <tr style=\"text-align: right;\">\n",
              "      <th></th>\n",
              "      <th>countrys</th>\n",
              "      <th>GDP</th>\n",
              "      <th>code</th>\n",
              "    </tr>\n",
              "  </thead>\n",
              "  <tbody>\n",
              "    <tr>\n",
              "      <th>220</th>\n",
              "      <td>Zambia</td>\n",
              "      <td>25.61</td>\n",
              "      <td>ZMB</td>\n",
              "    </tr>\n",
              "  </tbody>\n",
              "</table>\n",
              "</div>"
            ],
            "text/plain": [
              "    countrys    GDP code\n",
              "220   Zambia  25.61  ZMB"
            ]
          },
          "metadata": {
            "tags": []
          },
          "execution_count": 37
        }
      ]
    },
    {
      "cell_type": "code",
      "metadata": {
        "id": "AYeWgh8wwxl8",
        "colab_type": "code",
        "colab": {}
      },
      "source": [
        "df.at[221, 'code'] = 'ZWE'"
      ],
      "execution_count": 0,
      "outputs": []
    },
    {
      "cell_type": "markdown",
      "metadata": {
        "id": "Y7arWL1sblgY",
        "colab_type": "text"
      },
      "source": [
        "### Verify the change persisted!"
      ]
    },
    {
      "cell_type": "code",
      "metadata": {
        "id": "6NOSNRuYboO1",
        "colab_type": "code",
        "colab": {
          "base_uri": "https://localhost:8080/",
          "height": 306
        },
        "outputId": "61a66234-53c2-4b4a-d0ad-32d5b5c8257d"
      },
      "source": [
        "df[df.isnull().any(axis=1)]"
      ],
      "execution_count": 38,
      "outputs": [
        {
          "output_type": "execute_result",
          "data": {
            "text/html": [
              "<div>\n",
              "<style scoped>\n",
              "    .dataframe tbody tr th:only-of-type {\n",
              "        vertical-align: middle;\n",
              "    }\n",
              "\n",
              "    .dataframe tbody tr th {\n",
              "        vertical-align: top;\n",
              "    }\n",
              "\n",
              "    .dataframe thead th {\n",
              "        text-align: right;\n",
              "    }\n",
              "</style>\n",
              "<table border=\"1\" class=\"dataframe\">\n",
              "  <thead>\n",
              "    <tr style=\"text-align: right;\">\n",
              "      <th></th>\n",
              "      <th>countrys</th>\n",
              "      <th>GDP</th>\n",
              "      <th>code</th>\n",
              "    </tr>\n",
              "  </thead>\n",
              "  <tbody>\n",
              "    <tr>\n",
              "      <th>6</th>\n",
              "      <td>NaN</td>\n",
              "      <td>0.18</td>\n",
              "      <td>AIA</td>\n",
              "    </tr>\n",
              "    <tr>\n",
              "      <th>14</th>\n",
              "      <td>Bahamas, The</td>\n",
              "      <td>8.65</td>\n",
              "      <td>NaN</td>\n",
              "    </tr>\n",
              "    <tr>\n",
              "      <th>20</th>\n",
              "      <td>NaN</td>\n",
              "      <td>1.67</td>\n",
              "      <td>BLZ</td>\n",
              "    </tr>\n",
              "    <tr>\n",
              "      <th>55</th>\n",
              "      <td>Denmark</td>\n",
              "      <td>347.20</td>\n",
              "      <td>NaN</td>\n",
              "    </tr>\n",
              "    <tr>\n",
              "      <th>90</th>\n",
              "      <td>Hungary</td>\n",
              "      <td>129.70</td>\n",
              "      <td>NaN</td>\n",
              "    </tr>\n",
              "    <tr>\n",
              "      <th>100</th>\n",
              "      <td>Jamaica</td>\n",
              "      <td>13.92</td>\n",
              "      <td>NaN</td>\n",
              "    </tr>\n",
              "    <tr>\n",
              "      <th>106</th>\n",
              "      <td>NaN</td>\n",
              "      <td>0.16</td>\n",
              "      <td>KIR</td>\n",
              "    </tr>\n",
              "    <tr>\n",
              "      <th>200</th>\n",
              "      <td>Togo</td>\n",
              "      <td>4.84</td>\n",
              "      <td>NaN</td>\n",
              "    </tr>\n",
              "    <tr>\n",
              "      <th>206</th>\n",
              "      <td>NaN</td>\n",
              "      <td>0.04</td>\n",
              "      <td>TUV</td>\n",
              "    </tr>\n",
              "  </tbody>\n",
              "</table>\n",
              "</div>"
            ],
            "text/plain": [
              "         countrys     GDP code\n",
              "6             NaN    0.18  AIA\n",
              "14   Bahamas, The    8.65  NaN\n",
              "20            NaN    1.67  BLZ\n",
              "55        Denmark  347.20  NaN\n",
              "90        Hungary  129.70  NaN\n",
              "100       Jamaica   13.92  NaN\n",
              "106           NaN    0.16  KIR\n",
              "200          Togo    4.84  NaN\n",
              "206           NaN    0.04  TUV"
            ]
          },
          "metadata": {
            "tags": []
          },
          "execution_count": 38
        }
      ]
    },
    {
      "cell_type": "code",
      "metadata": {
        "id": "T_1Am4qrw9Io",
        "colab_type": "code",
        "colab": {}
      },
      "source": [
        "df.at[6, 'countrys'] = 'Anguilla'\n",
        "df.at[14, 'code'] = 'BHS'\n",
        "df.at[20, 'countrys'] = 'Belize'\n",
        "df.at[55, 'code'] = 'DNK'\n",
        "df.at[90, 'code'] = 'HUN'\n",
        "df.at[100, 'code'] = 'JAM'\n",
        "df.at[106, 'countrys'] = 'Kiribati'\n",
        "df.at[200, 'code'] = 'TOG'\n",
        "df.at[206, 'countrys'] = 'Tuvalu'\n",
        "\n",
        "\n"
      ],
      "execution_count": 0,
      "outputs": []
    },
    {
      "cell_type": "code",
      "metadata": {
        "id": "2HfRZn8pydBR",
        "colab_type": "code",
        "colab": {
          "base_uri": "https://localhost:8080/",
          "height": 47
        },
        "outputId": "909f8c3e-ccb7-4895-b55d-d5fe29948073"
      },
      "source": [
        "df[df.isnull().any(axis=1)]"
      ],
      "execution_count": 41,
      "outputs": [
        {
          "output_type": "execute_result",
          "data": {
            "text/html": [
              "<div>\n",
              "<style scoped>\n",
              "    .dataframe tbody tr th:only-of-type {\n",
              "        vertical-align: middle;\n",
              "    }\n",
              "\n",
              "    .dataframe tbody tr th {\n",
              "        vertical-align: top;\n",
              "    }\n",
              "\n",
              "    .dataframe thead th {\n",
              "        text-align: right;\n",
              "    }\n",
              "</style>\n",
              "<table border=\"1\" class=\"dataframe\">\n",
              "  <thead>\n",
              "    <tr style=\"text-align: right;\">\n",
              "      <th></th>\n",
              "      <th>countrys</th>\n",
              "      <th>GDP</th>\n",
              "      <th>code</th>\n",
              "    </tr>\n",
              "  </thead>\n",
              "  <tbody>\n",
              "  </tbody>\n",
              "</table>\n",
              "</div>"
            ],
            "text/plain": [
              "Empty DataFrame\n",
              "Columns: [countrys, GDP, code]\n",
              "Index: []"
            ]
          },
          "metadata": {
            "tags": []
          },
          "execution_count": 41
        }
      ]
    },
    {
      "cell_type": "markdown",
      "metadata": {
        "id": "D3B3Z8GvcY4Q",
        "colab_type": "text"
      },
      "source": [
        "### Submit your assignment notebook! (Make sure you've changed the name to FIRSTNAME_LASTNAME_1_2): \n",
        "\n",
        "1.  Click the Share button in the upper-right hand corner of the notebook.\n",
        "2.  Get the shareable link.\n",
        "3.  Set condition to: \"Anyone with the link can comment.\"\n",
        "4.  TBD \n",
        "\n",
        "\n",
        "---\n"
      ]
    },
    {
      "cell_type": "code",
      "metadata": {
        "id": "_uZuJWp-yOmn",
        "colab_type": "code",
        "colab": {}
      },
      "source": [
        ""
      ],
      "execution_count": 0,
      "outputs": []
    }
  ]
}